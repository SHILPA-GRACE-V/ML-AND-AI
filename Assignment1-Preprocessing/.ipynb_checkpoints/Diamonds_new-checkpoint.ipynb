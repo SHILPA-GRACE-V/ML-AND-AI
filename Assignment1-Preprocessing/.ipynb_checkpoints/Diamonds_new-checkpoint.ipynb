{
 "cells": [
  {
   "cell_type": "code",
   "execution_count": 1,
   "id": "e20b3e55",
   "metadata": {},
   "outputs": [],
   "source": [
    "import pandas as pd\n",
    "import numpy as np\n",
    "import matplotlib.pyplot as plt\n",
    "import seaborn as sns"
   ]
  },
  {
   "cell_type": "code",
   "execution_count": 2,
   "id": "8d7edd01",
   "metadata": {},
   "outputs": [],
   "source": [
    "data = pd.read_csv(\"diamonds_new.csv\")"
   ]
  },
  {
   "cell_type": "code",
   "execution_count": 3,
   "id": "183ed1c5",
   "metadata": {},
   "outputs": [
    {
     "data": {
      "text/html": [
       "<div>\n",
       "<style scoped>\n",
       "    .dataframe tbody tr th:only-of-type {\n",
       "        vertical-align: middle;\n",
       "    }\n",
       "\n",
       "    .dataframe tbody tr th {\n",
       "        vertical-align: top;\n",
       "    }\n",
       "\n",
       "    .dataframe thead th {\n",
       "        text-align: right;\n",
       "    }\n",
       "</style>\n",
       "<table border=\"1\" class=\"dataframe\">\n",
       "  <thead>\n",
       "    <tr style=\"text-align: right;\">\n",
       "      <th></th>\n",
       "      <th>carat</th>\n",
       "      <th>cut</th>\n",
       "      <th>color</th>\n",
       "      <th>clarity</th>\n",
       "      <th>table</th>\n",
       "      <th>x</th>\n",
       "      <th>y</th>\n",
       "      <th>z</th>\n",
       "      <th>price_new</th>\n",
       "    </tr>\n",
       "  </thead>\n",
       "  <tbody>\n",
       "    <tr>\n",
       "      <th>0</th>\n",
       "      <td>0.23</td>\n",
       "      <td>Ideal</td>\n",
       "      <td>E</td>\n",
       "      <td>SI2</td>\n",
       "      <td>55.0</td>\n",
       "      <td>3.95</td>\n",
       "      <td>3.98</td>\n",
       "      <td>2.43</td>\n",
       "      <td>163.0</td>\n",
       "    </tr>\n",
       "    <tr>\n",
       "      <th>1</th>\n",
       "      <td>0.21</td>\n",
       "      <td>Premium</td>\n",
       "      <td>E</td>\n",
       "      <td>SI1</td>\n",
       "      <td>61.0</td>\n",
       "      <td>3.89</td>\n",
       "      <td>3.84</td>\n",
       "      <td>2.31</td>\n",
       "      <td>163.0</td>\n",
       "    </tr>\n",
       "    <tr>\n",
       "      <th>2</th>\n",
       "      <td>0.23</td>\n",
       "      <td>Good</td>\n",
       "      <td>E</td>\n",
       "      <td>VS1</td>\n",
       "      <td>65.0</td>\n",
       "      <td>4.05</td>\n",
       "      <td>4.07</td>\n",
       "      <td>2.31</td>\n",
       "      <td>163.5</td>\n",
       "    </tr>\n",
       "    <tr>\n",
       "      <th>3</th>\n",
       "      <td>0.29</td>\n",
       "      <td>Premium</td>\n",
       "      <td>I</td>\n",
       "      <td>VS2</td>\n",
       "      <td>58.0</td>\n",
       "      <td>4.20</td>\n",
       "      <td>4.23</td>\n",
       "      <td>2.63</td>\n",
       "      <td>167.0</td>\n",
       "    </tr>\n",
       "    <tr>\n",
       "      <th>4</th>\n",
       "      <td>0.31</td>\n",
       "      <td>Good</td>\n",
       "      <td>J</td>\n",
       "      <td>SI2</td>\n",
       "      <td>58.0</td>\n",
       "      <td>4.34</td>\n",
       "      <td>4.35</td>\n",
       "      <td>2.75</td>\n",
       "      <td>167.5</td>\n",
       "    </tr>\n",
       "    <tr>\n",
       "      <th>...</th>\n",
       "      <td>...</td>\n",
       "      <td>...</td>\n",
       "      <td>...</td>\n",
       "      <td>...</td>\n",
       "      <td>...</td>\n",
       "      <td>...</td>\n",
       "      <td>...</td>\n",
       "      <td>...</td>\n",
       "      <td>...</td>\n",
       "    </tr>\n",
       "    <tr>\n",
       "      <th>53935</th>\n",
       "      <td>0.72</td>\n",
       "      <td>Ideal</td>\n",
       "      <td>D</td>\n",
       "      <td>SI1</td>\n",
       "      <td>57.0</td>\n",
       "      <td>5.75</td>\n",
       "      <td>5.76</td>\n",
       "      <td>3.50</td>\n",
       "      <td>1378.5</td>\n",
       "    </tr>\n",
       "    <tr>\n",
       "      <th>53936</th>\n",
       "      <td>0.72</td>\n",
       "      <td>Good</td>\n",
       "      <td>D</td>\n",
       "      <td>SI1</td>\n",
       "      <td>55.0</td>\n",
       "      <td>5.69</td>\n",
       "      <td>5.75</td>\n",
       "      <td>3.61</td>\n",
       "      <td>1378.5</td>\n",
       "    </tr>\n",
       "    <tr>\n",
       "      <th>53937</th>\n",
       "      <td>0.70</td>\n",
       "      <td>Very Good</td>\n",
       "      <td>D</td>\n",
       "      <td>SI1</td>\n",
       "      <td>60.0</td>\n",
       "      <td>5.66</td>\n",
       "      <td>5.68</td>\n",
       "      <td>3.56</td>\n",
       "      <td>1378.5</td>\n",
       "    </tr>\n",
       "    <tr>\n",
       "      <th>53938</th>\n",
       "      <td>0.86</td>\n",
       "      <td>Premium</td>\n",
       "      <td>H</td>\n",
       "      <td>SI2</td>\n",
       "      <td>58.0</td>\n",
       "      <td>6.15</td>\n",
       "      <td>6.12</td>\n",
       "      <td>3.74</td>\n",
       "      <td>1378.5</td>\n",
       "    </tr>\n",
       "    <tr>\n",
       "      <th>53939</th>\n",
       "      <td>0.75</td>\n",
       "      <td>Ideal</td>\n",
       "      <td>D</td>\n",
       "      <td>SI2</td>\n",
       "      <td>55.0</td>\n",
       "      <td>5.83</td>\n",
       "      <td>5.87</td>\n",
       "      <td>3.64</td>\n",
       "      <td>1378.5</td>\n",
       "    </tr>\n",
       "  </tbody>\n",
       "</table>\n",
       "<p>53940 rows × 9 columns</p>\n",
       "</div>"
      ],
      "text/plain": [
       "       carat        cut color clarity  table     x     y     z  price_new\n",
       "0       0.23      Ideal     E     SI2   55.0  3.95  3.98  2.43      163.0\n",
       "1       0.21    Premium     E     SI1   61.0  3.89  3.84  2.31      163.0\n",
       "2       0.23       Good     E     VS1   65.0  4.05  4.07  2.31      163.5\n",
       "3       0.29    Premium     I     VS2   58.0  4.20  4.23  2.63      167.0\n",
       "4       0.31       Good     J     SI2   58.0  4.34  4.35  2.75      167.5\n",
       "...      ...        ...   ...     ...    ...   ...   ...   ...        ...\n",
       "53935   0.72      Ideal     D     SI1   57.0  5.75  5.76  3.50     1378.5\n",
       "53936   0.72       Good     D     SI1   55.0  5.69  5.75  3.61     1378.5\n",
       "53937   0.70  Very Good     D     SI1   60.0  5.66  5.68  3.56     1378.5\n",
       "53938   0.86    Premium     H     SI2   58.0  6.15  6.12  3.74     1378.5\n",
       "53939   0.75      Ideal     D     SI2   55.0  5.83  5.87  3.64     1378.5\n",
       "\n",
       "[53940 rows x 9 columns]"
      ]
     },
     "execution_count": 3,
     "metadata": {},
     "output_type": "execute_result"
    }
   ],
   "source": [
    "data"
   ]
  },
  {
   "cell_type": "code",
   "execution_count": 4,
   "id": "b7b33e71",
   "metadata": {},
   "outputs": [
    {
     "name": "stdout",
     "output_type": "stream",
     "text": [
      "<class 'pandas.core.frame.DataFrame'>\n",
      "RangeIndex: 53940 entries, 0 to 53939\n",
      "Data columns (total 9 columns):\n",
      " #   Column     Non-Null Count  Dtype  \n",
      "---  ------     --------------  -----  \n",
      " 0   carat      53841 non-null  float64\n",
      " 1   cut        53940 non-null  object \n",
      " 2   color      53884 non-null  object \n",
      " 3   clarity    53940 non-null  object \n",
      " 4   table      53877 non-null  float64\n",
      " 5   x          53940 non-null  float64\n",
      " 6   y          53940 non-null  float64\n",
      " 7   z          53940 non-null  float64\n",
      " 8   price_new  53940 non-null  float64\n",
      "dtypes: float64(6), object(3)\n",
      "memory usage: 3.7+ MB\n"
     ]
    }
   ],
   "source": [
    "data.info()"
   ]
  },
  {
   "cell_type": "code",
   "execution_count": 5,
   "id": "bffca159",
   "metadata": {},
   "outputs": [
    {
     "data": {
      "text/html": [
       "<div>\n",
       "<style scoped>\n",
       "    .dataframe tbody tr th:only-of-type {\n",
       "        vertical-align: middle;\n",
       "    }\n",
       "\n",
       "    .dataframe tbody tr th {\n",
       "        vertical-align: top;\n",
       "    }\n",
       "\n",
       "    .dataframe thead th {\n",
       "        text-align: right;\n",
       "    }\n",
       "</style>\n",
       "<table border=\"1\" class=\"dataframe\">\n",
       "  <thead>\n",
       "    <tr style=\"text-align: right;\">\n",
       "      <th></th>\n",
       "      <th>carat</th>\n",
       "      <th>table</th>\n",
       "      <th>x</th>\n",
       "      <th>y</th>\n",
       "      <th>z</th>\n",
       "      <th>price_new</th>\n",
       "    </tr>\n",
       "  </thead>\n",
       "  <tbody>\n",
       "    <tr>\n",
       "      <th>count</th>\n",
       "      <td>53841.000000</td>\n",
       "      <td>53877.000000</td>\n",
       "      <td>53940.000000</td>\n",
       "      <td>53940.000000</td>\n",
       "      <td>53940.000000</td>\n",
       "      <td>53940.000000</td>\n",
       "    </tr>\n",
       "    <tr>\n",
       "      <th>mean</th>\n",
       "      <td>0.798120</td>\n",
       "      <td>57.457719</td>\n",
       "      <td>5.731157</td>\n",
       "      <td>5.734526</td>\n",
       "      <td>3.539635</td>\n",
       "      <td>1966.399861</td>\n",
       "    </tr>\n",
       "    <tr>\n",
       "      <th>std</th>\n",
       "      <td>0.474428</td>\n",
       "      <td>2.235742</td>\n",
       "      <td>1.121761</td>\n",
       "      <td>1.142135</td>\n",
       "      <td>0.703869</td>\n",
       "      <td>1994.719869</td>\n",
       "    </tr>\n",
       "    <tr>\n",
       "      <th>min</th>\n",
       "      <td>0.200000</td>\n",
       "      <td>43.000000</td>\n",
       "      <td>0.000000</td>\n",
       "      <td>0.000000</td>\n",
       "      <td>0.000000</td>\n",
       "      <td>163.000000</td>\n",
       "    </tr>\n",
       "    <tr>\n",
       "      <th>25%</th>\n",
       "      <td>0.400000</td>\n",
       "      <td>56.000000</td>\n",
       "      <td>4.710000</td>\n",
       "      <td>4.720000</td>\n",
       "      <td>2.910000</td>\n",
       "      <td>475.000000</td>\n",
       "    </tr>\n",
       "    <tr>\n",
       "      <th>50%</th>\n",
       "      <td>0.700000</td>\n",
       "      <td>57.000000</td>\n",
       "      <td>5.700000</td>\n",
       "      <td>5.710000</td>\n",
       "      <td>3.530000</td>\n",
       "      <td>1200.500000</td>\n",
       "    </tr>\n",
       "    <tr>\n",
       "      <th>75%</th>\n",
       "      <td>1.040000</td>\n",
       "      <td>59.000000</td>\n",
       "      <td>6.540000</td>\n",
       "      <td>6.540000</td>\n",
       "      <td>4.040000</td>\n",
       "      <td>2662.125000</td>\n",
       "    </tr>\n",
       "    <tr>\n",
       "      <th>max</th>\n",
       "      <td>5.010000</td>\n",
       "      <td>95.000000</td>\n",
       "      <td>10.740000</td>\n",
       "      <td>58.900000</td>\n",
       "      <td>31.800000</td>\n",
       "      <td>9411.500000</td>\n",
       "    </tr>\n",
       "  </tbody>\n",
       "</table>\n",
       "</div>"
      ],
      "text/plain": [
       "              carat         table             x             y             z  \\\n",
       "count  53841.000000  53877.000000  53940.000000  53940.000000  53940.000000   \n",
       "mean       0.798120     57.457719      5.731157      5.734526      3.539635   \n",
       "std        0.474428      2.235742      1.121761      1.142135      0.703869   \n",
       "min        0.200000     43.000000      0.000000      0.000000      0.000000   \n",
       "25%        0.400000     56.000000      4.710000      4.720000      2.910000   \n",
       "50%        0.700000     57.000000      5.700000      5.710000      3.530000   \n",
       "75%        1.040000     59.000000      6.540000      6.540000      4.040000   \n",
       "max        5.010000     95.000000     10.740000     58.900000     31.800000   \n",
       "\n",
       "          price_new  \n",
       "count  53940.000000  \n",
       "mean    1966.399861  \n",
       "std     1994.719869  \n",
       "min      163.000000  \n",
       "25%      475.000000  \n",
       "50%     1200.500000  \n",
       "75%     2662.125000  \n",
       "max     9411.500000  "
      ]
     },
     "execution_count": 5,
     "metadata": {},
     "output_type": "execute_result"
    }
   ],
   "source": [
    "data.describe()"
   ]
  },
  {
   "cell_type": "code",
   "execution_count": 6,
   "id": "fd736fb0",
   "metadata": {},
   "outputs": [
    {
     "data": {
      "text/plain": [
       "(53940, 9)"
      ]
     },
     "execution_count": 6,
     "metadata": {},
     "output_type": "execute_result"
    }
   ],
   "source": [
    "data.shape"
   ]
  },
  {
   "cell_type": "code",
   "execution_count": 7,
   "id": "c4915b93",
   "metadata": {},
   "outputs": [
    {
     "data": {
      "text/plain": [
       "Index(['carat', 'cut', 'color', 'clarity', 'table', 'x', 'y', 'z',\n",
       "       'price_new'],\n",
       "      dtype='object')"
      ]
     },
     "execution_count": 7,
     "metadata": {},
     "output_type": "execute_result"
    }
   ],
   "source": [
    "data.columns"
   ]
  },
  {
   "cell_type": "markdown",
   "id": "29c1ea10",
   "metadata": {},
   "source": [
    "# Handle the Missing values\n"
   ]
  },
  {
   "cell_type": "code",
   "execution_count": 8,
   "id": "7ec0691a",
   "metadata": {},
   "outputs": [
    {
     "data": {
      "text/plain": [
       "carat        99\n",
       "cut           0\n",
       "color        56\n",
       "clarity       0\n",
       "table        63\n",
       "x             0\n",
       "y             0\n",
       "z             0\n",
       "price_new     0\n",
       "dtype: int64"
      ]
     },
     "execution_count": 8,
     "metadata": {},
     "output_type": "execute_result"
    }
   ],
   "source": [
    "data.isna().sum()"
   ]
  },
  {
   "cell_type": "code",
   "execution_count": 9,
   "id": "18a05bf3",
   "metadata": {},
   "outputs": [
    {
     "data": {
      "text/plain": [
       "carat        float64\n",
       "cut           object\n",
       "color         object\n",
       "clarity       object\n",
       "table        float64\n",
       "x            float64\n",
       "y            float64\n",
       "z            float64\n",
       "price_new    float64\n",
       "dtype: object"
      ]
     },
     "execution_count": 9,
     "metadata": {},
     "output_type": "execute_result"
    }
   ],
   "source": [
    "data.dtypes"
   ]
  },
  {
   "cell_type": "code",
   "execution_count": 10,
   "id": "77d5ff10",
   "metadata": {},
   "outputs": [
    {
     "data": {
      "image/png": "[encoded data removed]",
      "text/plain": [
       "<Figure size 640x480 with 1 Axes>"
      ]
     },
     "metadata": {},
     "output_type": "display_data"
    }
   ],
   "source": [
    "#Filling missing values in column carat.\n",
    "plt.hist(data['carat'])\n",
    "plt.show()"
   ]
  },
  {
   "cell_type": "code",
   "execution_count": 11,
   "id": "831eb3b3",
   "metadata": {},
   "outputs": [],
   "source": [
    "median_rate = data['carat'].median()\n",
    "data['carat'] = data['carat'].fillna(median_rate)"
   ]
  },
  {
   "cell_type": "code",
   "execution_count": 12,
   "id": "6bc1272a",
   "metadata": {},
   "outputs": [],
   "source": [
    "##Filling missing values in column table.\n",
    "median_rate = data['table'].median()\n",
    "data['table'] = data['table'].fillna(median_rate)"
   ]
  },
  {
   "cell_type": "code",
   "execution_count": 13,
   "id": "63859693",
   "metadata": {},
   "outputs": [],
   "source": [
    "#Filling missing values in column table. color.\n",
    "data['color']=data['color'].fillna(data['color'].value_counts().index[0])"
   ]
  },
  {
   "cell_type": "code",
   "execution_count": 14,
   "id": "0f995d27",
   "metadata": {},
   "outputs": [
    {
     "data": {
      "text/plain": [
       "carat        0\n",
       "cut          0\n",
       "color        0\n",
       "clarity      0\n",
       "table        0\n",
       "x            0\n",
       "y            0\n",
       "z            0\n",
       "price_new    0\n",
       "dtype: int64"
      ]
     },
     "execution_count": 14,
     "metadata": {},
     "output_type": "execute_result"
    }
   ],
   "source": [
    "data.isnull().sum()"
   ]
  },
  {
   "cell_type": "markdown",
   "id": "4f83f223",
   "metadata": {},
   "source": [
    "# Outlier Detection "
   ]
  },
  {
   "cell_type": "markdown",
   "id": "0cbf4490",
   "metadata": {},
   "source": [
    "# Column \"carat\""
   ]
  },
  {
   "cell_type": "code",
   "execution_count": 15,
   "id": "1ed9109e",
   "metadata": {
    "scrolled": true
   },
   "outputs": [
    {
     "data": {
      "text/plain": [
       "<Axes: >"
      ]
     },
     "execution_count": 15,
     "metadata": {},
     "output_type": "execute_result"
    },
    {
     "data": {
      "image/png": "[encoded data removed]",
      "text/plain": [
       "<Figure size 640x480 with 1 Axes>"
      ]
     },
     "metadata": {},
     "output_type": "display_data"
    }
   ],
   "source": [
    "sns.boxplot(data['carat'])"
   ]
  },
  {
   "cell_type": "code",
   "execution_count": 16,
   "id": "cea14d4f",
   "metadata": {},
   "outputs": [
    {
     "data": {
      "text/plain": [
       "<Axes: >"
      ]
     },
     "execution_count": 16,
     "metadata": {},
     "output_type": "execute_result"
    },
    {
     "data": {
      "image/png": "[encoded data removed]",
      "text/plain": [
       "<Figure size 640x480 with 1 Axes>"
      ]
     },
     "metadata": {},
     "output_type": "display_data"
    }
   ],
   "source": [
    "data['carat'].hist()"
   ]
  },
  {
   "cell_type": "code",
   "execution_count": 17,
   "id": "764a9f95",
   "metadata": {},
   "outputs": [
    {
     "name": "stdout",
     "output_type": "stream",
     "text": [
      "skewness value of carat:  1.116645920812613\n"
     ]
    }
   ],
   "source": [
    "print('skewness value of carat: ',data['carat'].skew())"
   ]
  },
  {
   "cell_type": "code",
   "execution_count": 18,
   "id": "ba6178e5",
   "metadata": {},
   "outputs": [
    {
     "data": {
      "text/plain": [
       "0.64"
      ]
     },
     "execution_count": 18,
     "metadata": {},
     "output_type": "execute_result"
    }
   ],
   "source": [
    "#interquartile range value of the ‘carat’ variable.\n",
    "Q1=data['carat'].quantile(0.25)\n",
    "Q2=data['carat'].quantile(0.75)\n",
    "IQR=Q2-Q1\n",
    "IQR"
   ]
  },
  {
   "cell_type": "code",
   "execution_count": 19,
   "id": "fbefadcc",
   "metadata": {},
   "outputs": [],
   "source": [
    "#Flooring And Capping\n",
    "Q1 = data['carat'].quantile(0.25)\n",
    "Q3 = data['carat'].quantile(0.75)\n",
    "IQR = Q3 - Q1\n",
    "whisker_width = 1.5\n",
    "lower_whisker = Q1 -(whisker_width*IQR)\n",
    "upper_whisker = Q3 + (whisker_width*IQR)\n",
    "data['carat']=np.where(data['carat']>upper_whisker,upper_whisker,np.where(data['carat']<lower_whisker,lower_whisker,data['carat']))"
   ]
  },
  {
   "cell_type": "code",
   "execution_count": 20,
   "id": "8f427031",
   "metadata": {},
   "outputs": [
    {
     "data": {
      "text/plain": [
       "<Axes: >"
      ]
     },
     "execution_count": 20,
     "metadata": {},
     "output_type": "execute_result"
    },
    {
     "data": {
      "image/png": "[encoded data removed]",
      "text/plain": [
       "<Figure size 640x480 with 1 Axes>"
      ]
     },
     "metadata": {},
     "output_type": "display_data"
    }
   ],
   "source": [
    "sns.boxplot(data['carat'])"
   ]
  },
  {
   "cell_type": "markdown",
   "id": "a20245ca",
   "metadata": {},
   "source": [
    "# column 'table'"
   ]
  },
  {
   "cell_type": "code",
   "execution_count": 21,
   "id": "e5104792",
   "metadata": {},
   "outputs": [
    {
     "data": {
      "text/plain": [
       "<Axes: >"
      ]
     },
     "execution_count": 21,
     "metadata": {},
     "output_type": "execute_result"
    },
    {
     "data": {
      "image/png": "[encoded data removed]",
      "text/plain": [
       "<Figure size 640x480 with 1 Axes>"
      ]
     },
     "metadata": {},
     "output_type": "display_data"
    }
   ],
   "source": [
    "sns.boxplot(data['table'])"
   ]
  },
  {
   "cell_type": "code",
   "execution_count": 22,
   "id": "c08ca267",
   "metadata": {},
   "outputs": [
    {
     "data": {
      "text/plain": [
       "<Axes: >"
      ]
     },
     "execution_count": 22,
     "metadata": {},
     "output_type": "execute_result"
    },
    {
     "data": {
      "image/png": "[encoded data removed]",
      "text/plain": [
       "<Figure size 640x480 with 1 Axes>"
      ]
     },
     "metadata": {},
     "output_type": "display_data"
    }
   ],
   "source": [
    "data['table'].hist()"
   ]
  },
  {
   "cell_type": "code",
   "execution_count": 23,
   "id": "297e66b2",
   "metadata": {},
   "outputs": [
    {
     "name": "stdout",
     "output_type": "stream",
     "text": [
      "skewness value of table:  0.7968958486695427\n"
     ]
    }
   ],
   "source": [
    "print('skewness value of table: ',data['table'].skew())"
   ]
  },
  {
   "cell_type": "code",
   "execution_count": 24,
   "id": "fe3aee86",
   "metadata": {},
   "outputs": [
    {
     "data": {
      "text/plain": [
       "3.0"
      ]
     },
     "execution_count": 24,
     "metadata": {},
     "output_type": "execute_result"
    }
   ],
   "source": [
    "#interquartile range value of the ‘table’ variable.\n",
    "Q1=data['table'].quantile(0.25)\n",
    "Q2=data['table'].quantile(0.75)\n",
    "IQR=Q2-Q1\n",
    "IQR"
   ]
  },
  {
   "cell_type": "code",
   "execution_count": 25,
   "id": "f2e98161",
   "metadata": {},
   "outputs": [],
   "source": [
    "#Flooring And Capping\n",
    "Q1 = data['table'].quantile(0.25)\n",
    "Q3 = data['table'].quantile(0.75)\n",
    "IQR = Q3 - Q1\n",
    "whisker_width = 1.5\n",
    "lower_whisker = Q1 -(whisker_width*IQR)\n",
    "upper_whisker = Q3 + (whisker_width*IQR)\n",
    "data['table']=np.where(data['table']>upper_whisker,upper_whisker,np.where(data['table']<lower_whisker,lower_whisker,data['table']))"
   ]
  },
  {
   "cell_type": "code",
   "execution_count": 26,
   "id": "28012ad3",
   "metadata": {},
   "outputs": [
    {
     "data": {
      "text/plain": [
       "<Axes: >"
      ]
     },
     "execution_count": 26,
     "metadata": {},
     "output_type": "execute_result"
    },
    {
     "data": {
      "image/png": "[encoded data removed]",
      "text/plain": [
       "<Figure size 640x480 with 1 Axes>"
      ]
     },
     "metadata": {},
     "output_type": "display_data"
    }
   ],
   "source": [
    "sns.boxplot(data['table'])"
   ]
  },
  {
   "cell_type": "markdown",
   "id": "607a3252",
   "metadata": {},
   "source": [
    "# for columns x,y,z"
   ]
  },
  {
   "cell_type": "code",
   "execution_count": 29,
   "id": "0418e450",
   "metadata": {},
   "outputs": [
    {
     "data": {
      "text/plain": [
       "<Axes: >"
      ]
     },
     "execution_count": 29,
     "metadata": {},
     "output_type": "execute_result"
    },
    {
     "data": {
      "image/png": "[encoded data removed]",
      "text/plain": [
       "<Figure size 640x480 with 1 Axes>"
      ]
     },
     "metadata": {},
     "output_type": "display_data"
    }
   ],
   "source": [
    "\n",
    "sns.boxplot(data[\"x\"])"
   ]
  },
  {
   "cell_type": "code",
   "execution_count": 34,
   "id": "e436c221",
   "metadata": {},
   "outputs": [
    {
     "data": {
      "text/plain": [
       "<Axes: >"
      ]
     },
     "execution_count": 34,
     "metadata": {},
     "output_type": "execute_result"
    },
    {
     "data": {
      "image/png": "[encoded data removed]",
      "text/plain": [
       "<Figure size 640x480 with 1 Axes>"
      ]
     },
     "metadata": {},
     "output_type": "display_data"
    }
   ],
   "source": [
    "data['x'].hist()"
   ]
  },
  {
   "cell_type": "code",
   "execution_count": 30,
   "id": "e82b2d9c",
   "metadata": {},
   "outputs": [
    {
     "data": {
      "text/plain": [
       "<Axes: >"
      ]
     },
     "execution_count": 30,
     "metadata": {},
     "output_type": "execute_result"
    },
    {
     "data": {
      "image/png": "[encoded data removed]",
      "text/plain": [
       "<Figure size 640x480 with 1 Axes>"
      ]
     },
     "metadata": {},
     "output_type": "display_data"
    }
   ],
   "source": [
    "sns.boxplot(data[\"y\"])\n"
   ]
  },
  {
   "cell_type": "code",
   "execution_count": 35,
   "id": "256bcd65",
   "metadata": {},
   "outputs": [
    {
     "data": {
      "text/plain": [
       "<Axes: >"
      ]
     },
     "execution_count": 35,
     "metadata": {},
     "output_type": "execute_result"
    },
    {
     "data": {
      "image/png": "[encoded data removed]",
      "text/plain": [
       "<Figure size 640x480 with 1 Axes>"
      ]
     },
     "metadata": {},
     "output_type": "display_data"
    }
   ],
   "source": [
    "data['y'].hist()"
   ]
  },
  {
   "cell_type": "code",
   "execution_count": 32,
   "id": "7ebd3270",
   "metadata": {},
   "outputs": [
    {
     "data": {
      "text/plain": [
       "<Axes: >"
      ]
     },
     "execution_count": 32,
     "metadata": {},
     "output_type": "execute_result"
    },
    {
     "data": {
      "image/png": "[encoded data removed]",
      "text/plain": [
       "<Figure size 640x480 with 1 Axes>"
      ]
     },
     "metadata": {},
     "output_type": "display_data"
    }
   ],
   "source": [
    "sns.boxplot(data[\"z\"])"
   ]
  },
  {
   "cell_type": "code",
   "execution_count": 36,
   "id": "904acc8f",
   "metadata": {},
   "outputs": [
    {
     "data": {
      "text/plain": [
       "<Axes: >"
      ]
     },
     "execution_count": 36,
     "metadata": {},
     "output_type": "execute_result"
    },
    {
     "data": {
      "image/png": "[encoded data removed]",
      "text/plain": [
       "<Figure size 640x480 with 1 Axes>"
      ]
     },
     "metadata": {},
     "output_type": "display_data"
    }
   ],
   "source": [
    "data['z'].hist()"
   ]
  },
  {
   "cell_type": "code",
   "execution_count": 38,
   "id": "a429bae5",
   "metadata": {},
   "outputs": [
    {
     "name": "stdout",
     "output_type": "stream",
     "text": [
      "skewness value of x:  0.3786763426463927\n",
      "skewness value of y:  2.4341667164885554\n",
      "skewness value of z:  1.5591162616953969\n"
     ]
    }
   ],
   "source": [
    "print('skewness value of x: ',data['x'].skew())\n",
    "print('skewness value of y: ',data['y'].skew())\n",
    "print('skewness value of z: ',data['z'].skew())"
   ]
  },
  {
   "cell_type": "code",
   "execution_count": 43,
   "id": "560eab4b",
   "metadata": {},
   "outputs": [
    {
     "name": "stdout",
     "output_type": "stream",
     "text": [
      "IQR of  x is  1.83\n",
      "IQR of  y is  1.8200000000000003\n",
      "IQR of  z is  1.13\n"
     ]
    }
   ],
   "source": [
    "#interquartile range value of the x y and z variable.\n",
    "columns=['x','y','z']\n",
    "for column in columns:\n",
    "    Q1=data[column].quantile(0.25)\n",
    "    Q2=data[column].quantile(0.75)\n",
    "    IQR=Q2-Q1\n",
    "    print(\"IQR of \",column,\"is \",IQR)"
   ]
  },
  {
   "cell_type": "code",
   "execution_count": 44,
   "id": "045ccc00",
   "metadata": {},
   "outputs": [],
   "source": [
    "#Flooring And Capping\n",
    "columns=['x','y','z']\n",
    "for column in columns:\n",
    "    Q1 = data[column].quantile(0.25)\n",
    "    Q3 = data[column].quantile(0.75)\n",
    "    IQR = Q3 - Q1\n",
    "    whisker_width = 1.5\n",
    "    lower_whisker = Q1 -(whisker_width*IQR)\n",
    "    upper_whisker = Q3 + (whisker_width*IQR)\n",
    "    data[column]=np.where(data[column]>upper_whisker,upper_whisker,np.where(data[column]<lower_whisker,lower_whisker,data[column]))"
   ]
  },
  {
   "cell_type": "code",
   "execution_count": 45,
   "id": "a8e25998",
   "metadata": {},
   "outputs": [
    {
     "data": {
      "text/plain": [
       "<Axes: >"
      ]
     },
     "execution_count": 45,
     "metadata": {},
     "output_type": "execute_result"
    },
    {
     "data": {
      "image/png": "[encoded data removed]",
      "text/plain": [
       "<Figure size 640x480 with 1 Axes>"
      ]
     },
     "metadata": {},
     "output_type": "display_data"
    }
   ],
   "source": [
    "sns.boxplot(data[\"x\"])"
   ]
  },
  {
   "cell_type": "code",
   "execution_count": 47,
   "id": "c7150c26",
   "metadata": {},
   "outputs": [
    {
     "data": {
      "text/plain": [
       "<Axes: >"
      ]
     },
     "execution_count": 47,
     "metadata": {},
     "output_type": "execute_result"
    },
    {
     "data": {
      "image/png": "[encoded data removed]",
      "text/plain": [
       "<Figure size 640x480 with 1 Axes>"
      ]
     },
     "metadata": {},
     "output_type": "display_data"
    }
   ],
   "source": [
    "sns.boxplot(data[\"y\"])"
   ]
  },
  {
   "cell_type": "code",
   "execution_count": 48,
   "id": "bc342187",
   "metadata": {},
   "outputs": [
    {
     "data": {
      "text/plain": [
       "<Axes: >"
      ]
     },
     "execution_count": 48,
     "metadata": {},
     "output_type": "execute_result"
    },
    {
     "data": {
      "image/png": "[encoded data removed]",
      "text/plain": [
       "<Figure size 640x480 with 1 Axes>"
      ]
     },
     "metadata": {},
     "output_type": "display_data"
    }
   ],
   "source": [
    "sns.boxplot(data[\"z\"])"
   ]
  },
  {
   "cell_type": "markdown",
   "id": "a4b2ca66",
   "metadata": {},
   "source": [
    "# Encoding"
   ]
  },
  {
   "cell_type": "code",
   "execution_count": 49,
   "id": "134822e1",
   "metadata": {},
   "outputs": [
    {
     "data": {
      "text/plain": [
       "Index(['carat', 'cut', 'color', 'clarity', 'table', 'x', 'y', 'z',\n",
       "       'price_new'],\n",
       "      dtype='object')"
      ]
     },
     "execution_count": 49,
     "metadata": {},
     "output_type": "execute_result"
    }
   ],
   "source": [
    "data.columns"
   ]
  },
  {
   "cell_type": "code",
   "execution_count": 52,
   "id": "58662ff0",
   "metadata": {},
   "outputs": [
    {
     "name": "stdout",
     "output_type": "stream",
     "text": [
      "<class 'pandas.core.frame.DataFrame'>\n",
      "RangeIndex: 53940 entries, 0 to 53939\n",
      "Data columns (total 9 columns):\n",
      " #   Column     Non-Null Count  Dtype  \n",
      "---  ------     --------------  -----  \n",
      " 0   carat      53940 non-null  float64\n",
      " 1   cut        53940 non-null  object \n",
      " 2   color      53940 non-null  object \n",
      " 3   clarity    53940 non-null  object \n",
      " 4   table      53940 non-null  float64\n",
      " 5   x          53940 non-null  float64\n",
      " 6   y          53940 non-null  float64\n",
      " 7   z          53940 non-null  float64\n",
      " 8   price_new  53940 non-null  float64\n",
      "dtypes: float64(6), object(3)\n",
      "memory usage: 3.7+ MB\n"
     ]
    }
   ],
   "source": [
    "data.info()"
   ]
  },
  {
   "cell_type": "markdown",
   "id": "e860ef85",
   "metadata": {},
   "source": [
    "Encoding for columns cut color and clarity"
   ]
  },
  {
   "cell_type": "code",
   "execution_count": 53,
   "id": "819387ae",
   "metadata": {},
   "outputs": [
    {
     "data": {
      "text/plain": [
       "Ideal        21551\n",
       "Premium      13791\n",
       "Very Good    12082\n",
       "Good          4906\n",
       "Fair          1610\n",
       "Name: cut, dtype: int64"
      ]
     },
     "execution_count": 53,
     "metadata": {},
     "output_type": "execute_result"
    }
   ],
   "source": [
    "data['cut'].value_counts()"
   ]
  },
  {
   "cell_type": "code",
   "execution_count": 54,
   "id": "878ec3bd",
   "metadata": {},
   "outputs": [
    {
     "data": {
      "text/plain": [
       "G    11292\n",
       "E     9797\n",
       "F     9542\n",
       "H     8304\n",
       "D     6775\n",
       "I     5422\n",
       "J     2808\n",
       "Name: color, dtype: int64"
      ]
     },
     "execution_count": 54,
     "metadata": {},
     "output_type": "execute_result"
    }
   ],
   "source": [
    "data['color'].value_counts()"
   ]
  },
  {
   "cell_type": "code",
   "execution_count": 55,
   "id": "2d23d030",
   "metadata": {},
   "outputs": [
    {
     "data": {
      "text/plain": [
       "SI1     13065\n",
       "VS2     12258\n",
       "SI2      9194\n",
       "VS1      8171\n",
       "VVS2     5066\n",
       "VVS1     3655\n",
       "IF       1790\n",
       "I1        741\n",
       "Name: clarity, dtype: int64"
      ]
     },
     "execution_count": 55,
     "metadata": {},
     "output_type": "execute_result"
    }
   ],
   "source": [
    "data['clarity'].value_counts()"
   ]
  },
  {
   "cell_type": "code",
   "execution_count": 56,
   "id": "ab48f588",
   "metadata": {},
   "outputs": [],
   "source": [
    "from sklearn.preprocessing import LabelEncoder\n",
    "le = LabelEncoder()\n",
    "colomns=['cut','color','clarity']\n",
    "for column in colomns:\n",
    "    data[column]=le.fit_transform(data[column])"
   ]
  },
  {
   "cell_type": "code",
   "execution_count": 57,
   "id": "e7273bbc",
   "metadata": {},
   "outputs": [
    {
     "data": {
      "text/html": [
       "<div>\n",
       "<style scoped>\n",
       "    .dataframe tbody tr th:only-of-type {\n",
       "        vertical-align: middle;\n",
       "    }\n",
       "\n",
       "    .dataframe tbody tr th {\n",
       "        vertical-align: top;\n",
       "    }\n",
       "\n",
       "    .dataframe thead th {\n",
       "        text-align: right;\n",
       "    }\n",
       "</style>\n",
       "<table border=\"1\" class=\"dataframe\">\n",
       "  <thead>\n",
       "    <tr style=\"text-align: right;\">\n",
       "      <th></th>\n",
       "      <th>carat</th>\n",
       "      <th>cut</th>\n",
       "      <th>color</th>\n",
       "      <th>clarity</th>\n",
       "      <th>table</th>\n",
       "      <th>x</th>\n",
       "      <th>y</th>\n",
       "      <th>z</th>\n",
       "      <th>price_new</th>\n",
       "    </tr>\n",
       "  </thead>\n",
       "  <tbody>\n",
       "    <tr>\n",
       "      <th>0</th>\n",
       "      <td>0.23</td>\n",
       "      <td>2</td>\n",
       "      <td>1</td>\n",
       "      <td>3</td>\n",
       "      <td>55.0</td>\n",
       "      <td>3.95</td>\n",
       "      <td>3.98</td>\n",
       "      <td>2.43</td>\n",
       "      <td>163.0</td>\n",
       "    </tr>\n",
       "    <tr>\n",
       "      <th>1</th>\n",
       "      <td>0.21</td>\n",
       "      <td>3</td>\n",
       "      <td>1</td>\n",
       "      <td>2</td>\n",
       "      <td>61.0</td>\n",
       "      <td>3.89</td>\n",
       "      <td>3.84</td>\n",
       "      <td>2.31</td>\n",
       "      <td>163.0</td>\n",
       "    </tr>\n",
       "    <tr>\n",
       "      <th>2</th>\n",
       "      <td>0.23</td>\n",
       "      <td>1</td>\n",
       "      <td>1</td>\n",
       "      <td>4</td>\n",
       "      <td>63.5</td>\n",
       "      <td>4.05</td>\n",
       "      <td>4.07</td>\n",
       "      <td>2.31</td>\n",
       "      <td>163.5</td>\n",
       "    </tr>\n",
       "    <tr>\n",
       "      <th>3</th>\n",
       "      <td>0.29</td>\n",
       "      <td>3</td>\n",
       "      <td>5</td>\n",
       "      <td>5</td>\n",
       "      <td>58.0</td>\n",
       "      <td>4.20</td>\n",
       "      <td>4.23</td>\n",
       "      <td>2.63</td>\n",
       "      <td>167.0</td>\n",
       "    </tr>\n",
       "    <tr>\n",
       "      <th>4</th>\n",
       "      <td>0.31</td>\n",
       "      <td>1</td>\n",
       "      <td>6</td>\n",
       "      <td>3</td>\n",
       "      <td>58.0</td>\n",
       "      <td>4.34</td>\n",
       "      <td>4.35</td>\n",
       "      <td>2.75</td>\n",
       "      <td>167.5</td>\n",
       "    </tr>\n",
       "    <tr>\n",
       "      <th>...</th>\n",
       "      <td>...</td>\n",
       "      <td>...</td>\n",
       "      <td>...</td>\n",
       "      <td>...</td>\n",
       "      <td>...</td>\n",
       "      <td>...</td>\n",
       "      <td>...</td>\n",
       "      <td>...</td>\n",
       "      <td>...</td>\n",
       "    </tr>\n",
       "    <tr>\n",
       "      <th>53935</th>\n",
       "      <td>0.72</td>\n",
       "      <td>2</td>\n",
       "      <td>0</td>\n",
       "      <td>2</td>\n",
       "      <td>57.0</td>\n",
       "      <td>5.75</td>\n",
       "      <td>5.76</td>\n",
       "      <td>3.50</td>\n",
       "      <td>1378.5</td>\n",
       "    </tr>\n",
       "    <tr>\n",
       "      <th>53936</th>\n",
       "      <td>0.72</td>\n",
       "      <td>1</td>\n",
       "      <td>0</td>\n",
       "      <td>2</td>\n",
       "      <td>55.0</td>\n",
       "      <td>5.69</td>\n",
       "      <td>5.75</td>\n",
       "      <td>3.61</td>\n",
       "      <td>1378.5</td>\n",
       "    </tr>\n",
       "    <tr>\n",
       "      <th>53937</th>\n",
       "      <td>0.70</td>\n",
       "      <td>4</td>\n",
       "      <td>0</td>\n",
       "      <td>2</td>\n",
       "      <td>60.0</td>\n",
       "      <td>5.66</td>\n",
       "      <td>5.68</td>\n",
       "      <td>3.56</td>\n",
       "      <td>1378.5</td>\n",
       "    </tr>\n",
       "    <tr>\n",
       "      <th>53938</th>\n",
       "      <td>0.86</td>\n",
       "      <td>3</td>\n",
       "      <td>4</td>\n",
       "      <td>3</td>\n",
       "      <td>58.0</td>\n",
       "      <td>6.15</td>\n",
       "      <td>6.12</td>\n",
       "      <td>3.74</td>\n",
       "      <td>1378.5</td>\n",
       "    </tr>\n",
       "    <tr>\n",
       "      <th>53939</th>\n",
       "      <td>0.75</td>\n",
       "      <td>2</td>\n",
       "      <td>0</td>\n",
       "      <td>3</td>\n",
       "      <td>55.0</td>\n",
       "      <td>5.83</td>\n",
       "      <td>5.87</td>\n",
       "      <td>3.64</td>\n",
       "      <td>1378.5</td>\n",
       "    </tr>\n",
       "  </tbody>\n",
       "</table>\n",
       "<p>53940 rows × 9 columns</p>\n",
       "</div>"
      ],
      "text/plain": [
       "       carat  cut  color  clarity  table     x     y     z  price_new\n",
       "0       0.23    2      1        3   55.0  3.95  3.98  2.43      163.0\n",
       "1       0.21    3      1        2   61.0  3.89  3.84  2.31      163.0\n",
       "2       0.23    1      1        4   63.5  4.05  4.07  2.31      163.5\n",
       "3       0.29    3      5        5   58.0  4.20  4.23  2.63      167.0\n",
       "4       0.31    1      6        3   58.0  4.34  4.35  2.75      167.5\n",
       "...      ...  ...    ...      ...    ...   ...   ...   ...        ...\n",
       "53935   0.72    2      0        2   57.0  5.75  5.76  3.50     1378.5\n",
       "53936   0.72    1      0        2   55.0  5.69  5.75  3.61     1378.5\n",
       "53937   0.70    4      0        2   60.0  5.66  5.68  3.56     1378.5\n",
       "53938   0.86    3      4        3   58.0  6.15  6.12  3.74     1378.5\n",
       "53939   0.75    2      0        3   55.0  5.83  5.87  3.64     1378.5\n",
       "\n",
       "[53940 rows x 9 columns]"
      ]
     },
     "execution_count": 57,
     "metadata": {},
     "output_type": "execute_result"
    }
   ],
   "source": [
    "data"
   ]
  },
  {
   "cell_type": "code",
   "execution_count": 61,
   "id": "0c195d31",
   "metadata": {},
   "outputs": [
    {
     "data": {
      "text/html": [
       "<div>\n",
       "<style scoped>\n",
       "    .dataframe tbody tr th:only-of-type {\n",
       "        vertical-align: middle;\n",
       "    }\n",
       "\n",
       "    .dataframe tbody tr th {\n",
       "        vertical-align: top;\n",
       "    }\n",
       "\n",
       "    .dataframe thead th {\n",
       "        text-align: right;\n",
       "    }\n",
       "</style>\n",
       "<table border=\"1\" class=\"dataframe\">\n",
       "  <thead>\n",
       "    <tr style=\"text-align: right;\">\n",
       "      <th></th>\n",
       "      <th>carat</th>\n",
       "      <th>cut</th>\n",
       "      <th>color</th>\n",
       "      <th>clarity</th>\n",
       "      <th>table</th>\n",
       "      <th>x</th>\n",
       "      <th>y</th>\n",
       "      <th>z</th>\n",
       "      <th>price_new</th>\n",
       "    </tr>\n",
       "  </thead>\n",
       "  <tbody>\n",
       "    <tr>\n",
       "      <th>count</th>\n",
       "      <td>53940.000000</td>\n",
       "      <td>53940.000000</td>\n",
       "      <td>53940.000000</td>\n",
       "      <td>53940.000000</td>\n",
       "      <td>53940.000000</td>\n",
       "      <td>53940.000000</td>\n",
       "      <td>53940.000000</td>\n",
       "      <td>53940.000000</td>\n",
       "      <td>53940.000000</td>\n",
       "    </tr>\n",
       "    <tr>\n",
       "      <th>mean</th>\n",
       "      <td>0.792558</td>\n",
       "      <td>2.553003</td>\n",
       "      <td>2.594197</td>\n",
       "      <td>3.835150</td>\n",
       "      <td>57.438561</td>\n",
       "      <td>5.731285</td>\n",
       "      <td>5.733311</td>\n",
       "      <td>3.539131</td>\n",
       "      <td>1966.399861</td>\n",
       "    </tr>\n",
       "    <tr>\n",
       "      <th>std</th>\n",
       "      <td>0.457089</td>\n",
       "      <td>1.027708</td>\n",
       "      <td>1.701105</td>\n",
       "      <td>1.724591</td>\n",
       "      <td>2.161139</td>\n",
       "      <td>1.119956</td>\n",
       "      <td>1.111950</td>\n",
       "      <td>0.691776</td>\n",
       "      <td>1994.719869</td>\n",
       "    </tr>\n",
       "    <tr>\n",
       "      <th>min</th>\n",
       "      <td>0.200000</td>\n",
       "      <td>0.000000</td>\n",
       "      <td>0.000000</td>\n",
       "      <td>0.000000</td>\n",
       "      <td>51.500000</td>\n",
       "      <td>1.965000</td>\n",
       "      <td>1.990000</td>\n",
       "      <td>1.215000</td>\n",
       "      <td>163.000000</td>\n",
       "    </tr>\n",
       "    <tr>\n",
       "      <th>25%</th>\n",
       "      <td>0.400000</td>\n",
       "      <td>2.000000</td>\n",
       "      <td>1.000000</td>\n",
       "      <td>2.000000</td>\n",
       "      <td>56.000000</td>\n",
       "      <td>4.710000</td>\n",
       "      <td>4.720000</td>\n",
       "      <td>2.910000</td>\n",
       "      <td>475.000000</td>\n",
       "    </tr>\n",
       "    <tr>\n",
       "      <th>50%</th>\n",
       "      <td>0.700000</td>\n",
       "      <td>2.000000</td>\n",
       "      <td>3.000000</td>\n",
       "      <td>4.000000</td>\n",
       "      <td>57.000000</td>\n",
       "      <td>5.700000</td>\n",
       "      <td>5.710000</td>\n",
       "      <td>3.530000</td>\n",
       "      <td>1200.500000</td>\n",
       "    </tr>\n",
       "    <tr>\n",
       "      <th>75%</th>\n",
       "      <td>1.040000</td>\n",
       "      <td>3.000000</td>\n",
       "      <td>4.000000</td>\n",
       "      <td>5.000000</td>\n",
       "      <td>59.000000</td>\n",
       "      <td>6.540000</td>\n",
       "      <td>6.540000</td>\n",
       "      <td>4.040000</td>\n",
       "      <td>2662.125000</td>\n",
       "    </tr>\n",
       "    <tr>\n",
       "      <th>max</th>\n",
       "      <td>2.000000</td>\n",
       "      <td>4.000000</td>\n",
       "      <td>6.000000</td>\n",
       "      <td>7.000000</td>\n",
       "      <td>63.500000</td>\n",
       "      <td>9.285000</td>\n",
       "      <td>9.270000</td>\n",
       "      <td>5.735000</td>\n",
       "      <td>9411.500000</td>\n",
       "    </tr>\n",
       "  </tbody>\n",
       "</table>\n",
       "</div>"
      ],
      "text/plain": [
       "              carat           cut         color       clarity         table  \\\n",
       "count  53940.000000  53940.000000  53940.000000  53940.000000  53940.000000   \n",
       "mean       0.792558      2.553003      2.594197      3.835150     57.438561   \n",
       "std        0.457089      1.027708      1.701105      1.724591      2.161139   \n",
       "min        0.200000      0.000000      0.000000      0.000000     51.500000   \n",
       "25%        0.400000      2.000000      1.000000      2.000000     56.000000   \n",
       "50%        0.700000      2.000000      3.000000      4.000000     57.000000   \n",
       "75%        1.040000      3.000000      4.000000      5.000000     59.000000   \n",
       "max        2.000000      4.000000      6.000000      7.000000     63.500000   \n",
       "\n",
       "                  x             y             z     price_new  \n",
       "count  53940.000000  53940.000000  53940.000000  53940.000000  \n",
       "mean       5.731285      5.733311      3.539131   1966.399861  \n",
       "std        1.119956      1.111950      0.691776   1994.719869  \n",
       "min        1.965000      1.990000      1.215000    163.000000  \n",
       "25%        4.710000      4.720000      2.910000    475.000000  \n",
       "50%        5.700000      5.710000      3.530000   1200.500000  \n",
       "75%        6.540000      6.540000      4.040000   2662.125000  \n",
       "max        9.285000      9.270000      5.735000   9411.500000  "
      ]
     },
     "execution_count": 61,
     "metadata": {},
     "output_type": "execute_result"
    }
   ],
   "source": [
    "data.describe()"
   ]
  },
  {
   "cell_type": "markdown",
   "id": "4ecda57d",
   "metadata": {},
   "source": [
    "# Scaling"
   ]
  },
  {
   "cell_type": "code",
   "execution_count": 62,
   "id": "a052067b",
   "metadata": {},
   "outputs": [],
   "source": [
    "#importing the MinMaxScaler\n",
    "from sklearn.preprocessing import MinMaxScaler\n",
    "# Create a MinMaxScaler object\n",
    "scaler = MinMaxScaler()"
   ]
  },
  {
   "cell_type": "code",
   "execution_count": 64,
   "id": "e2829944",
   "metadata": {},
   "outputs": [
    {
     "name": "stdout",
     "output_type": "stream",
     "text": [
      "[[1.66666667e-02 5.00000000e-01 1.66666667e-01 ... 2.73351648e-01\n",
      "  2.68805310e-01 0.00000000e+00]\n",
      " [5.55555556e-03 7.50000000e-01 1.66666667e-01 ... 2.54120879e-01\n",
      "  2.42256637e-01 0.00000000e+00]\n",
      " [1.66666667e-02 2.50000000e-01 1.66666667e-01 ... 2.85714286e-01\n",
      "  2.42256637e-01 5.40628210e-05]\n",
      " ...\n",
      " [2.77777778e-01 1.00000000e+00 0.00000000e+00 ... 5.06868132e-01\n",
      "  5.18805310e-01 1.31426718e-01]\n",
      " [3.66666667e-01 7.50000000e-01 6.66666667e-01 ... 5.67307692e-01\n",
      "  5.58628319e-01 1.31426718e-01]\n",
      " [3.05555556e-01 5.00000000e-01 0.00000000e+00 ... 5.32967033e-01\n",
      "  5.36504425e-01 1.31426718e-01]]\n"
     ]
    }
   ],
   "source": [
    "scaled = scaler.fit_transform(data)\n",
    "print(scaled)"
   ]
  },
  {
   "cell_type": "code",
   "execution_count": 65,
   "id": "1dd892a8",
   "metadata": {},
   "outputs": [
    {
     "data": {
      "text/html": [
       "<div>\n",
       "<style scoped>\n",
       "    .dataframe tbody tr th:only-of-type {\n",
       "        vertical-align: middle;\n",
       "    }\n",
       "\n",
       "    .dataframe tbody tr th {\n",
       "        vertical-align: top;\n",
       "    }\n",
       "\n",
       "    .dataframe thead th {\n",
       "        text-align: right;\n",
       "    }\n",
       "</style>\n",
       "<table border=\"1\" class=\"dataframe\">\n",
       "  <thead>\n",
       "    <tr style=\"text-align: right;\">\n",
       "      <th></th>\n",
       "      <th>0</th>\n",
       "      <th>1</th>\n",
       "      <th>2</th>\n",
       "      <th>3</th>\n",
       "      <th>4</th>\n",
       "      <th>5</th>\n",
       "      <th>6</th>\n",
       "      <th>7</th>\n",
       "      <th>8</th>\n",
       "    </tr>\n",
       "  </thead>\n",
       "  <tbody>\n",
       "    <tr>\n",
       "      <th>0</th>\n",
       "      <td>0.016667</td>\n",
       "      <td>0.50</td>\n",
       "      <td>0.166667</td>\n",
       "      <td>0.428571</td>\n",
       "      <td>0.291667</td>\n",
       "      <td>0.271175</td>\n",
       "      <td>0.273352</td>\n",
       "      <td>0.268805</td>\n",
       "      <td>0.000000</td>\n",
       "    </tr>\n",
       "    <tr>\n",
       "      <th>1</th>\n",
       "      <td>0.005556</td>\n",
       "      <td>0.75</td>\n",
       "      <td>0.166667</td>\n",
       "      <td>0.285714</td>\n",
       "      <td>0.791667</td>\n",
       "      <td>0.262978</td>\n",
       "      <td>0.254121</td>\n",
       "      <td>0.242257</td>\n",
       "      <td>0.000000</td>\n",
       "    </tr>\n",
       "    <tr>\n",
       "      <th>2</th>\n",
       "      <td>0.016667</td>\n",
       "      <td>0.25</td>\n",
       "      <td>0.166667</td>\n",
       "      <td>0.571429</td>\n",
       "      <td>1.000000</td>\n",
       "      <td>0.284836</td>\n",
       "      <td>0.285714</td>\n",
       "      <td>0.242257</td>\n",
       "      <td>0.000054</td>\n",
       "    </tr>\n",
       "    <tr>\n",
       "      <th>3</th>\n",
       "      <td>0.050000</td>\n",
       "      <td>0.75</td>\n",
       "      <td>0.833333</td>\n",
       "      <td>0.714286</td>\n",
       "      <td>0.541667</td>\n",
       "      <td>0.305328</td>\n",
       "      <td>0.307692</td>\n",
       "      <td>0.313053</td>\n",
       "      <td>0.000433</td>\n",
       "    </tr>\n",
       "    <tr>\n",
       "      <th>4</th>\n",
       "      <td>0.061111</td>\n",
       "      <td>0.25</td>\n",
       "      <td>1.000000</td>\n",
       "      <td>0.428571</td>\n",
       "      <td>0.541667</td>\n",
       "      <td>0.324454</td>\n",
       "      <td>0.324176</td>\n",
       "      <td>0.339602</td>\n",
       "      <td>0.000487</td>\n",
       "    </tr>\n",
       "  </tbody>\n",
       "</table>\n",
       "</div>"
      ],
      "text/plain": [
       "          0     1         2         3         4         5         6         7  \\\n",
       "0  0.016667  0.50  0.166667  0.428571  0.291667  0.271175  0.273352  0.268805   \n",
       "1  0.005556  0.75  0.166667  0.285714  0.791667  0.262978  0.254121  0.242257   \n",
       "2  0.016667  0.25  0.166667  0.571429  1.000000  0.284836  0.285714  0.242257   \n",
       "3  0.050000  0.75  0.833333  0.714286  0.541667  0.305328  0.307692  0.313053   \n",
       "4  0.061111  0.25  1.000000  0.428571  0.541667  0.324454  0.324176  0.339602   \n",
       "\n",
       "          8  \n",
       "0  0.000000  \n",
       "1  0.000000  \n",
       "2  0.000054  \n",
       "3  0.000433  \n",
       "4  0.000487  "
      ]
     },
     "execution_count": 65,
     "metadata": {},
     "output_type": "execute_result"
    }
   ],
   "source": [
    "data_new = pd.DataFrame(scaled)\n",
    "data_new.head()"
   ]
  },
  {
   "cell_type": "code",
   "execution_count": 66,
   "id": "6356acf4",
   "metadata": {},
   "outputs": [
    {
     "data": {
      "text/html": [
       "<div>\n",
       "<style scoped>\n",
       "    .dataframe tbody tr th:only-of-type {\n",
       "        vertical-align: middle;\n",
       "    }\n",
       "\n",
       "    .dataframe tbody tr th {\n",
       "        vertical-align: top;\n",
       "    }\n",
       "\n",
       "    .dataframe thead th {\n",
       "        text-align: right;\n",
       "    }\n",
       "</style>\n",
       "<table border=\"1\" class=\"dataframe\">\n",
       "  <thead>\n",
       "    <tr style=\"text-align: right;\">\n",
       "      <th></th>\n",
       "      <th>0</th>\n",
       "      <th>1</th>\n",
       "      <th>2</th>\n",
       "      <th>3</th>\n",
       "      <th>4</th>\n",
       "      <th>5</th>\n",
       "      <th>6</th>\n",
       "      <th>7</th>\n",
       "      <th>8</th>\n",
       "    </tr>\n",
       "  </thead>\n",
       "  <tbody>\n",
       "    <tr>\n",
       "      <th>count</th>\n",
       "      <td>53940.000000</td>\n",
       "      <td>53940.000000</td>\n",
       "      <td>53940.000000</td>\n",
       "      <td>53940.000000</td>\n",
       "      <td>53940.000000</td>\n",
       "      <td>53940.000000</td>\n",
       "      <td>53940.000000</td>\n",
       "      <td>53940.000000</td>\n",
       "      <td>53940.000000</td>\n",
       "    </tr>\n",
       "    <tr>\n",
       "      <th>mean</th>\n",
       "      <td>0.329199</td>\n",
       "      <td>0.638251</td>\n",
       "      <td>0.432366</td>\n",
       "      <td>0.547879</td>\n",
       "      <td>0.494880</td>\n",
       "      <td>0.514520</td>\n",
       "      <td>0.514191</td>\n",
       "      <td>0.514188</td>\n",
       "      <td>0.194994</td>\n",
       "    </tr>\n",
       "    <tr>\n",
       "      <th>std</th>\n",
       "      <td>0.253938</td>\n",
       "      <td>0.256927</td>\n",
       "      <td>0.283517</td>\n",
       "      <td>0.246370</td>\n",
       "      <td>0.180095</td>\n",
       "      <td>0.152999</td>\n",
       "      <td>0.152740</td>\n",
       "      <td>0.153048</td>\n",
       "      <td>0.215680</td>\n",
       "    </tr>\n",
       "    <tr>\n",
       "      <th>min</th>\n",
       "      <td>0.000000</td>\n",
       "      <td>0.000000</td>\n",
       "      <td>0.000000</td>\n",
       "      <td>0.000000</td>\n",
       "      <td>0.000000</td>\n",
       "      <td>0.000000</td>\n",
       "      <td>0.000000</td>\n",
       "      <td>0.000000</td>\n",
       "      <td>0.000000</td>\n",
       "    </tr>\n",
       "    <tr>\n",
       "      <th>25%</th>\n",
       "      <td>0.111111</td>\n",
       "      <td>0.500000</td>\n",
       "      <td>0.166667</td>\n",
       "      <td>0.285714</td>\n",
       "      <td>0.375000</td>\n",
       "      <td>0.375000</td>\n",
       "      <td>0.375000</td>\n",
       "      <td>0.375000</td>\n",
       "      <td>0.033735</td>\n",
       "    </tr>\n",
       "    <tr>\n",
       "      <th>50%</th>\n",
       "      <td>0.277778</td>\n",
       "      <td>0.500000</td>\n",
       "      <td>0.500000</td>\n",
       "      <td>0.571429</td>\n",
       "      <td>0.458333</td>\n",
       "      <td>0.510246</td>\n",
       "      <td>0.510989</td>\n",
       "      <td>0.512168</td>\n",
       "      <td>0.112180</td>\n",
       "    </tr>\n",
       "    <tr>\n",
       "      <th>75%</th>\n",
       "      <td>0.466667</td>\n",
       "      <td>0.750000</td>\n",
       "      <td>0.666667</td>\n",
       "      <td>0.714286</td>\n",
       "      <td>0.625000</td>\n",
       "      <td>0.625000</td>\n",
       "      <td>0.625000</td>\n",
       "      <td>0.625000</td>\n",
       "      <td>0.270219</td>\n",
       "    </tr>\n",
       "    <tr>\n",
       "      <th>max</th>\n",
       "      <td>1.000000</td>\n",
       "      <td>1.000000</td>\n",
       "      <td>1.000000</td>\n",
       "      <td>1.000000</td>\n",
       "      <td>1.000000</td>\n",
       "      <td>1.000000</td>\n",
       "      <td>1.000000</td>\n",
       "      <td>1.000000</td>\n",
       "      <td>1.000000</td>\n",
       "    </tr>\n",
       "  </tbody>\n",
       "</table>\n",
       "</div>"
      ],
      "text/plain": [
       "                  0             1             2             3             4  \\\n",
       "count  53940.000000  53940.000000  53940.000000  53940.000000  53940.000000   \n",
       "mean       0.329199      0.638251      0.432366      0.547879      0.494880   \n",
       "std        0.253938      0.256927      0.283517      0.246370      0.180095   \n",
       "min        0.000000      0.000000      0.000000      0.000000      0.000000   \n",
       "25%        0.111111      0.500000      0.166667      0.285714      0.375000   \n",
       "50%        0.277778      0.500000      0.500000      0.571429      0.458333   \n",
       "75%        0.466667      0.750000      0.666667      0.714286      0.625000   \n",
       "max        1.000000      1.000000      1.000000      1.000000      1.000000   \n",
       "\n",
       "                  5             6             7             8  \n",
       "count  53940.000000  53940.000000  53940.000000  53940.000000  \n",
       "mean       0.514520      0.514191      0.514188      0.194994  \n",
       "std        0.152999      0.152740      0.153048      0.215680  \n",
       "min        0.000000      0.000000      0.000000      0.000000  \n",
       "25%        0.375000      0.375000      0.375000      0.033735  \n",
       "50%        0.510246      0.510989      0.512168      0.112180  \n",
       "75%        0.625000      0.625000      0.625000      0.270219  \n",
       "max        1.000000      1.000000      1.000000      1.000000  "
      ]
     },
     "execution_count": 66,
     "metadata": {},
     "output_type": "execute_result"
    }
   ],
   "source": [
    "data_new.describe()"
   ]
  },
  {
   "cell_type": "code",
   "execution_count": null,
   "id": "7653686e",
   "metadata": {},
   "outputs": [],
   "source": []
  }
 ],
 "metadata": {
  "kernelspec": {
   "display_name": "Python 3 (ipykernel)",
   "language": "python",
   "name": "python3"
  },
  "language_info": {
   "codemirror_mode": {
    "name": "ipython",
    "version": 3
   },
   "file_extension": ".py",
   "mimetype": "text/x-python",
   "name": "python",
   "nbconvert_exporter": "python",
   "pygments_lexer": "ipython3",
   "version": "3.10.9"
  }
 },
 "nbformat": 4,
 "nbformat_minor": 5
}
