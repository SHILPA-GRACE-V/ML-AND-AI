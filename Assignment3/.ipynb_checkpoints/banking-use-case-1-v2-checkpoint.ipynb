{
 "cells": [
  {
   "cell_type": "code",
   "execution_count": 1,
   "id": "50e734bb",
   "metadata": {},
   "outputs": [],
   "source": [
    "import pandas as pd\n",
    "import numpy as np"
   ]
  },
  {
   "cell_type": "code",
   "execution_count": 2,
   "id": "7a9b1dc7",
   "metadata": {},
   "outputs": [],
   "source": [
    "data = pd.read_csv(\"loan_dataset.csv\")"
   ]
  },
  {
   "cell_type": "code",
   "execution_count": 3,
   "id": "fb285c56",
   "metadata": {},
   "outputs": [
    {
     "data": {
      "text/html": [
       "<div>\n",
       "<style scoped>\n",
       "    .dataframe tbody tr th:only-of-type {\n",
       "        vertical-align: middle;\n",
       "    }\n",
       "\n",
       "    .dataframe tbody tr th {\n",
       "        vertical-align: top;\n",
       "    }\n",
       "\n",
       "    .dataframe thead th {\n",
       "        text-align: right;\n",
       "    }\n",
       "</style>\n",
       "<table border=\"1\" class=\"dataframe\">\n",
       "  <thead>\n",
       "    <tr style=\"text-align: right;\">\n",
       "      <th></th>\n",
       "      <th>loan_id</th>\n",
       "      <th>source</th>\n",
       "      <th>financial_institution</th>\n",
       "      <th>interest_rate</th>\n",
       "      <th>unpaid_principal_bal</th>\n",
       "      <th>loan_term</th>\n",
       "      <th>origination_date</th>\n",
       "      <th>first_payment_date</th>\n",
       "      <th>loan_to_value</th>\n",
       "      <th>number_of_borrowers</th>\n",
       "      <th>...</th>\n",
       "      <th>m4</th>\n",
       "      <th>m5</th>\n",
       "      <th>m6</th>\n",
       "      <th>m7</th>\n",
       "      <th>m8</th>\n",
       "      <th>m9</th>\n",
       "      <th>m10</th>\n",
       "      <th>m11</th>\n",
       "      <th>m12</th>\n",
       "      <th>m13</th>\n",
       "    </tr>\n",
       "  </thead>\n",
       "  <tbody>\n",
       "    <tr>\n",
       "      <th>0</th>\n",
       "      <td>268055008619</td>\n",
       "      <td>Z</td>\n",
       "      <td>Turner, Baldwin and Rhodes</td>\n",
       "      <td>4.250</td>\n",
       "      <td>214000</td>\n",
       "      <td>360</td>\n",
       "      <td>2012-03-01</td>\n",
       "      <td>05/2012</td>\n",
       "      <td>95</td>\n",
       "      <td>1.0</td>\n",
       "      <td>...</td>\n",
       "      <td>0</td>\n",
       "      <td>0</td>\n",
       "      <td>0</td>\n",
       "      <td>1</td>\n",
       "      <td>0</td>\n",
       "      <td>0</td>\n",
       "      <td>0</td>\n",
       "      <td>0</td>\n",
       "      <td>0</td>\n",
       "      <td>1</td>\n",
       "    </tr>\n",
       "    <tr>\n",
       "      <th>1</th>\n",
       "      <td>672831657627</td>\n",
       "      <td>Y</td>\n",
       "      <td>Swanson, Newton and Miller</td>\n",
       "      <td>4.875</td>\n",
       "      <td>144000</td>\n",
       "      <td>360</td>\n",
       "      <td>2012-01-01</td>\n",
       "      <td>03/2012</td>\n",
       "      <td>72</td>\n",
       "      <td>1.0</td>\n",
       "      <td>...</td>\n",
       "      <td>0</td>\n",
       "      <td>0</td>\n",
       "      <td>0</td>\n",
       "      <td>0</td>\n",
       "      <td>0</td>\n",
       "      <td>0</td>\n",
       "      <td>0</td>\n",
       "      <td>1</td>\n",
       "      <td>0</td>\n",
       "      <td>1</td>\n",
       "    </tr>\n",
       "    <tr>\n",
       "      <th>2</th>\n",
       "      <td>742515242108</td>\n",
       "      <td>Z</td>\n",
       "      <td>Thornton-Davis</td>\n",
       "      <td>3.250</td>\n",
       "      <td>366000</td>\n",
       "      <td>180</td>\n",
       "      <td>2012-01-01</td>\n",
       "      <td>03/2012</td>\n",
       "      <td>49</td>\n",
       "      <td>1.0</td>\n",
       "      <td>...</td>\n",
       "      <td>0</td>\n",
       "      <td>0</td>\n",
       "      <td>0</td>\n",
       "      <td>0</td>\n",
       "      <td>0</td>\n",
       "      <td>0</td>\n",
       "      <td>0</td>\n",
       "      <td>0</td>\n",
       "      <td>0</td>\n",
       "      <td>1</td>\n",
       "    </tr>\n",
       "    <tr>\n",
       "      <th>3</th>\n",
       "      <td>601385667462</td>\n",
       "      <td>X</td>\n",
       "      <td>OTHER</td>\n",
       "      <td>4.750</td>\n",
       "      <td>135000</td>\n",
       "      <td>360</td>\n",
       "      <td>2012-02-01</td>\n",
       "      <td>04/2012</td>\n",
       "      <td>46</td>\n",
       "      <td>2.0</td>\n",
       "      <td>...</td>\n",
       "      <td>0</td>\n",
       "      <td>0</td>\n",
       "      <td>0</td>\n",
       "      <td>0</td>\n",
       "      <td>0</td>\n",
       "      <td>1</td>\n",
       "      <td>1</td>\n",
       "      <td>1</td>\n",
       "      <td>1</td>\n",
       "      <td>1</td>\n",
       "    </tr>\n",
       "    <tr>\n",
       "      <th>4</th>\n",
       "      <td>273870029961</td>\n",
       "      <td>X</td>\n",
       "      <td>OTHER</td>\n",
       "      <td>4.750</td>\n",
       "      <td>124000</td>\n",
       "      <td>360</td>\n",
       "      <td>2012-02-01</td>\n",
       "      <td>04/2012</td>\n",
       "      <td>80</td>\n",
       "      <td>1.0</td>\n",
       "      <td>...</td>\n",
       "      <td>3</td>\n",
       "      <td>4</td>\n",
       "      <td>5</td>\n",
       "      <td>6</td>\n",
       "      <td>7</td>\n",
       "      <td>8</td>\n",
       "      <td>9</td>\n",
       "      <td>10</td>\n",
       "      <td>11</td>\n",
       "      <td>1</td>\n",
       "    </tr>\n",
       "  </tbody>\n",
       "</table>\n",
       "<p>5 rows × 29 columns</p>\n",
       "</div>"
      ],
      "text/plain": [
       "        loan_id source       financial_institution  interest_rate  \\\n",
       "0  268055008619      Z  Turner, Baldwin and Rhodes          4.250   \n",
       "1  672831657627      Y  Swanson, Newton and Miller          4.875   \n",
       "2  742515242108      Z              Thornton-Davis          3.250   \n",
       "3  601385667462      X                       OTHER          4.750   \n",
       "4  273870029961      X                       OTHER          4.750   \n",
       "\n",
       "   unpaid_principal_bal  loan_term origination_date first_payment_date  \\\n",
       "0                214000        360       2012-03-01            05/2012   \n",
       "1                144000        360       2012-01-01            03/2012   \n",
       "2                366000        180       2012-01-01            03/2012   \n",
       "3                135000        360       2012-02-01            04/2012   \n",
       "4                124000        360       2012-02-01            04/2012   \n",
       "\n",
       "   loan_to_value  number_of_borrowers  ...  m4  m5 m6  m7  m8  m9  m10  m11  \\\n",
       "0             95                  1.0  ...   0   0  0   1   0   0    0    0   \n",
       "1             72                  1.0  ...   0   0  0   0   0   0    0    1   \n",
       "2             49                  1.0  ...   0   0  0   0   0   0    0    0   \n",
       "3             46                  2.0  ...   0   0  0   0   0   1    1    1   \n",
       "4             80                  1.0  ...   3   4  5   6   7   8    9   10   \n",
       "\n",
       "   m12  m13  \n",
       "0    0    1  \n",
       "1    0    1  \n",
       "2    0    1  \n",
       "3    1    1  \n",
       "4   11    1  \n",
       "\n",
       "[5 rows x 29 columns]"
      ]
     },
     "execution_count": 3,
     "metadata": {},
     "output_type": "execute_result"
    }
   ],
   "source": [
    "data.head()"
   ]
  },
  {
   "cell_type": "code",
   "execution_count": 4,
   "id": "e89c621e",
   "metadata": {},
   "outputs": [
    {
     "data": {
      "text/html": [
       "<div>\n",
       "<style scoped>\n",
       "    .dataframe tbody tr th:only-of-type {\n",
       "        vertical-align: middle;\n",
       "    }\n",
       "\n",
       "    .dataframe tbody tr th {\n",
       "        vertical-align: top;\n",
       "    }\n",
       "\n",
       "    .dataframe thead th {\n",
       "        text-align: right;\n",
       "    }\n",
       "</style>\n",
       "<table border=\"1\" class=\"dataframe\">\n",
       "  <thead>\n",
       "    <tr style=\"text-align: right;\">\n",
       "      <th></th>\n",
       "      <th>loan_id</th>\n",
       "      <th>source</th>\n",
       "      <th>financial_institution</th>\n",
       "      <th>interest_rate</th>\n",
       "      <th>unpaid_principal_bal</th>\n",
       "      <th>loan_term</th>\n",
       "      <th>origination_date</th>\n",
       "      <th>first_payment_date</th>\n",
       "      <th>loan_to_value</th>\n",
       "      <th>number_of_borrowers</th>\n",
       "      <th>...</th>\n",
       "      <th>m4</th>\n",
       "      <th>m5</th>\n",
       "      <th>m6</th>\n",
       "      <th>m7</th>\n",
       "      <th>m8</th>\n",
       "      <th>m9</th>\n",
       "      <th>m10</th>\n",
       "      <th>m11</th>\n",
       "      <th>m12</th>\n",
       "      <th>m13</th>\n",
       "    </tr>\n",
       "  </thead>\n",
       "  <tbody>\n",
       "    <tr>\n",
       "      <th>116053</th>\n",
       "      <td>382119962287</td>\n",
       "      <td>Y</td>\n",
       "      <td>Browning-Hart</td>\n",
       "      <td>4.125</td>\n",
       "      <td>153000</td>\n",
       "      <td>360</td>\n",
       "      <td>2012-02-01</td>\n",
       "      <td>04/2012</td>\n",
       "      <td>88</td>\n",
       "      <td>2.0</td>\n",
       "      <td>...</td>\n",
       "      <td>0</td>\n",
       "      <td>0</td>\n",
       "      <td>0</td>\n",
       "      <td>0</td>\n",
       "      <td>0</td>\n",
       "      <td>0</td>\n",
       "      <td>0</td>\n",
       "      <td>0</td>\n",
       "      <td>0</td>\n",
       "      <td>0</td>\n",
       "    </tr>\n",
       "    <tr>\n",
       "      <th>116054</th>\n",
       "      <td>582803915466</td>\n",
       "      <td>Z</td>\n",
       "      <td>OTHER</td>\n",
       "      <td>3.000</td>\n",
       "      <td>150000</td>\n",
       "      <td>120</td>\n",
       "      <td>2012-01-01</td>\n",
       "      <td>03/2012</td>\n",
       "      <td>35</td>\n",
       "      <td>1.0</td>\n",
       "      <td>...</td>\n",
       "      <td>0</td>\n",
       "      <td>0</td>\n",
       "      <td>0</td>\n",
       "      <td>0</td>\n",
       "      <td>0</td>\n",
       "      <td>0</td>\n",
       "      <td>0</td>\n",
       "      <td>0</td>\n",
       "      <td>0</td>\n",
       "      <td>0</td>\n",
       "    </tr>\n",
       "    <tr>\n",
       "      <th>116055</th>\n",
       "      <td>837922316947</td>\n",
       "      <td>X</td>\n",
       "      <td>OTHER</td>\n",
       "      <td>3.875</td>\n",
       "      <td>166000</td>\n",
       "      <td>360</td>\n",
       "      <td>2012-02-01</td>\n",
       "      <td>04/2012</td>\n",
       "      <td>58</td>\n",
       "      <td>2.0</td>\n",
       "      <td>...</td>\n",
       "      <td>0</td>\n",
       "      <td>0</td>\n",
       "      <td>0</td>\n",
       "      <td>0</td>\n",
       "      <td>0</td>\n",
       "      <td>0</td>\n",
       "      <td>0</td>\n",
       "      <td>0</td>\n",
       "      <td>0</td>\n",
       "      <td>0</td>\n",
       "    </tr>\n",
       "    <tr>\n",
       "      <th>116056</th>\n",
       "      <td>477343182138</td>\n",
       "      <td>X</td>\n",
       "      <td>OTHER</td>\n",
       "      <td>4.250</td>\n",
       "      <td>169000</td>\n",
       "      <td>360</td>\n",
       "      <td>2012-02-01</td>\n",
       "      <td>04/2012</td>\n",
       "      <td>74</td>\n",
       "      <td>2.0</td>\n",
       "      <td>...</td>\n",
       "      <td>0</td>\n",
       "      <td>0</td>\n",
       "      <td>0</td>\n",
       "      <td>0</td>\n",
       "      <td>0</td>\n",
       "      <td>0</td>\n",
       "      <td>0</td>\n",
       "      <td>0</td>\n",
       "      <td>0</td>\n",
       "      <td>0</td>\n",
       "    </tr>\n",
       "    <tr>\n",
       "      <th>116057</th>\n",
       "      <td>763308490661</td>\n",
       "      <td>Z</td>\n",
       "      <td>Thornton-Davis</td>\n",
       "      <td>3.375</td>\n",
       "      <td>252000</td>\n",
       "      <td>180</td>\n",
       "      <td>2012-01-01</td>\n",
       "      <td>03/2012</td>\n",
       "      <td>29</td>\n",
       "      <td>2.0</td>\n",
       "      <td>...</td>\n",
       "      <td>0</td>\n",
       "      <td>0</td>\n",
       "      <td>0</td>\n",
       "      <td>0</td>\n",
       "      <td>0</td>\n",
       "      <td>0</td>\n",
       "      <td>0</td>\n",
       "      <td>0</td>\n",
       "      <td>0</td>\n",
       "      <td>0</td>\n",
       "    </tr>\n",
       "  </tbody>\n",
       "</table>\n",
       "<p>5 rows × 29 columns</p>\n",
       "</div>"
      ],
      "text/plain": [
       "             loan_id source financial_institution  interest_rate  \\\n",
       "116053  382119962287      Y         Browning-Hart          4.125   \n",
       "116054  582803915466      Z                 OTHER          3.000   \n",
       "116055  837922316947      X                 OTHER          3.875   \n",
       "116056  477343182138      X                 OTHER          4.250   \n",
       "116057  763308490661      Z        Thornton-Davis          3.375   \n",
       "\n",
       "        unpaid_principal_bal  loan_term origination_date first_payment_date  \\\n",
       "116053                153000        360       2012-02-01            04/2012   \n",
       "116054                150000        120       2012-01-01            03/2012   \n",
       "116055                166000        360       2012-02-01            04/2012   \n",
       "116056                169000        360       2012-02-01            04/2012   \n",
       "116057                252000        180       2012-01-01            03/2012   \n",
       "\n",
       "        loan_to_value  number_of_borrowers  ...  m4  m5 m6  m7  m8  m9  m10  \\\n",
       "116053             88                  2.0  ...   0   0  0   0   0   0    0   \n",
       "116054             35                  1.0  ...   0   0  0   0   0   0    0   \n",
       "116055             58                  2.0  ...   0   0  0   0   0   0    0   \n",
       "116056             74                  2.0  ...   0   0  0   0   0   0    0   \n",
       "116057             29                  2.0  ...   0   0  0   0   0   0    0   \n",
       "\n",
       "        m11  m12  m13  \n",
       "116053    0    0    0  \n",
       "116054    0    0    0  \n",
       "116055    0    0    0  \n",
       "116056    0    0    0  \n",
       "116057    0    0    0  \n",
       "\n",
       "[5 rows x 29 columns]"
      ]
     },
     "execution_count": 4,
     "metadata": {},
     "output_type": "execute_result"
    }
   ],
   "source": [
    "data.tail()"
   ]
  },
  {
   "cell_type": "code",
   "execution_count": 5,
   "id": "a49d5238",
   "metadata": {},
   "outputs": [
    {
     "data": {
      "text/plain": [
       "(116058, 29)"
      ]
     },
     "execution_count": 5,
     "metadata": {},
     "output_type": "execute_result"
    }
   ],
   "source": [
    "data.shape"
   ]
  },
  {
   "cell_type": "code",
   "execution_count": 6,
   "id": "153610af",
   "metadata": {},
   "outputs": [
    {
     "data": {
      "text/plain": [
       "Index(['loan_id', 'source', 'financial_institution', 'interest_rate',\n",
       "       'unpaid_principal_bal', 'loan_term', 'origination_date',\n",
       "       'first_payment_date', 'loan_to_value', 'number_of_borrowers',\n",
       "       'debt_to_income_ratio', 'borrower_credit_score', 'loan_purpose',\n",
       "       'insurance_percent', 'co-borrower_credit_score', 'insurance_type', 'm1',\n",
       "       'm2', 'm3', 'm4', 'm5', 'm6', 'm7', 'm8', 'm9', 'm10', 'm11', 'm12',\n",
       "       'm13'],\n",
       "      dtype='object')"
      ]
     },
     "execution_count": 6,
     "metadata": {},
     "output_type": "execute_result"
    }
   ],
   "source": [
    "data.columns"
   ]
  },
  {
   "cell_type": "code",
   "execution_count": 7,
   "id": "7ba652d5",
   "metadata": {},
   "outputs": [
    {
     "data": {
      "text/plain": [
       "loan_id                     0\n",
       "source                      0\n",
       "financial_institution       0\n",
       "interest_rate               0\n",
       "unpaid_principal_bal        0\n",
       "loan_term                   0\n",
       "origination_date            0\n",
       "first_payment_date          0\n",
       "loan_to_value               0\n",
       "number_of_borrowers         0\n",
       "debt_to_income_ratio        0\n",
       "borrower_credit_score       0\n",
       "loan_purpose                0\n",
       "insurance_percent           0\n",
       "co-borrower_credit_score    0\n",
       "insurance_type              0\n",
       "m1                          0\n",
       "m2                          0\n",
       "m3                          0\n",
       "m4                          0\n",
       "m5                          0\n",
       "m6                          0\n",
       "m7                          0\n",
       "m8                          0\n",
       "m9                          0\n",
       "m10                         0\n",
       "m11                         0\n",
       "m12                         0\n",
       "m13                         0\n",
       "dtype: int64"
      ]
     },
     "execution_count": 7,
     "metadata": {},
     "output_type": "execute_result"
    }
   ],
   "source": [
    "data.isna().sum()"
   ]
  },
  {
   "cell_type": "code",
   "execution_count": 8,
   "id": "5980278b",
   "metadata": {},
   "outputs": [
    {
     "name": "stdout",
     "output_type": "stream",
     "text": [
      "<class 'pandas.core.frame.DataFrame'>\n",
      "RangeIndex: 116058 entries, 0 to 116057\n",
      "Data columns (total 29 columns):\n",
      " #   Column                    Non-Null Count   Dtype  \n",
      "---  ------                    --------------   -----  \n",
      " 0   loan_id                   116058 non-null  int64  \n",
      " 1   source                    116058 non-null  object \n",
      " 2   financial_institution     116058 non-null  object \n",
      " 3   interest_rate             116058 non-null  float64\n",
      " 4   unpaid_principal_bal      116058 non-null  int64  \n",
      " 5   loan_term                 116058 non-null  int64  \n",
      " 6   origination_date          116058 non-null  object \n",
      " 7   first_payment_date        116058 non-null  object \n",
      " 8   loan_to_value             116058 non-null  int64  \n",
      " 9   number_of_borrowers       116058 non-null  float64\n",
      " 10  debt_to_income_ratio      116058 non-null  float64\n",
      " 11  borrower_credit_score     116058 non-null  float64\n",
      " 12  loan_purpose              116058 non-null  object \n",
      " 13  insurance_percent         116058 non-null  float64\n",
      " 14  co-borrower_credit_score  116058 non-null  float64\n",
      " 15  insurance_type            116058 non-null  float64\n",
      " 16  m1                        116058 non-null  int64  \n",
      " 17  m2                        116058 non-null  int64  \n",
      " 18  m3                        116058 non-null  int64  \n",
      " 19  m4                        116058 non-null  int64  \n",
      " 20  m5                        116058 non-null  int64  \n",
      " 21  m6                        116058 non-null  int64  \n",
      " 22  m7                        116058 non-null  int64  \n",
      " 23  m8                        116058 non-null  int64  \n",
      " 24  m9                        116058 non-null  int64  \n",
      " 25  m10                       116058 non-null  int64  \n",
      " 26  m11                       116058 non-null  int64  \n",
      " 27  m12                       116058 non-null  int64  \n",
      " 28  m13                       116058 non-null  int64  \n",
      "dtypes: float64(7), int64(17), object(5)\n",
      "memory usage: 25.7+ MB\n"
     ]
    }
   ],
   "source": [
    "data.info()"
   ]
  },
  {
   "cell_type": "code",
   "execution_count": 9,
   "id": "dd8f94bc",
   "metadata": {},
   "outputs": [],
   "source": [
    "data = data.dropna()"
   ]
  },
  {
   "cell_type": "code",
   "execution_count": 10,
   "id": "36c957e4",
   "metadata": {},
   "outputs": [
    {
     "data": {
      "text/plain": [
       "loan_id                     0\n",
       "source                      0\n",
       "financial_institution       0\n",
       "interest_rate               0\n",
       "unpaid_principal_bal        0\n",
       "loan_term                   0\n",
       "origination_date            0\n",
       "first_payment_date          0\n",
       "loan_to_value               0\n",
       "number_of_borrowers         0\n",
       "debt_to_income_ratio        0\n",
       "borrower_credit_score       0\n",
       "loan_purpose                0\n",
       "insurance_percent           0\n",
       "co-borrower_credit_score    0\n",
       "insurance_type              0\n",
       "m1                          0\n",
       "m2                          0\n",
       "m3                          0\n",
       "m4                          0\n",
       "m5                          0\n",
       "m6                          0\n",
       "m7                          0\n",
       "m8                          0\n",
       "m9                          0\n",
       "m10                         0\n",
       "m11                         0\n",
       "m12                         0\n",
       "m13                         0\n",
       "dtype: int64"
      ]
     },
     "execution_count": 10,
     "metadata": {},
     "output_type": "execute_result"
    }
   ],
   "source": [
    "data.isna().sum()"
   ]
  },
  {
   "cell_type": "code",
   "execution_count": 11,
   "id": "21297d87",
   "metadata": {},
   "outputs": [
    {
     "data": {
      "text/plain": [
       "X    63858\n",
       "Y    37554\n",
       "Z    14646\n",
       "Name: source, dtype: int64"
      ]
     },
     "execution_count": 11,
     "metadata": {},
     "output_type": "execute_result"
    }
   ],
   "source": [
    "data['source'].value_counts()"
   ]
  },
  {
   "cell_type": "code",
   "execution_count": 12,
   "id": "f9915868",
   "metadata": {},
   "outputs": [
    {
     "data": {
      "text/plain": [
       "19"
      ]
     },
     "execution_count": 12,
     "metadata": {},
     "output_type": "execute_result"
    }
   ],
   "source": [
    "data['financial_institution'].nunique()"
   ]
  },
  {
   "cell_type": "code",
   "execution_count": 13,
   "id": "e30869c3",
   "metadata": {},
   "outputs": [
    {
     "data": {
      "text/plain": [
       "OTHER                          42.822554\n",
       "Browning-Hart                  27.444898\n",
       "Swanson, Newton and Miller      5.922901\n",
       "Edwards-Hoffman                 4.184976\n",
       "Martinez, Duffy and Bird        4.062624\n",
       "Miller, Mcclure and Allen       2.721053\n",
       "Nicholson Group                 1.823226\n",
       "Turner, Baldwin and Rhodes      1.590584\n",
       "Suarez Inc                      1.542332\n",
       "Cole, Brooks and Vincent        1.414810\n",
       "Richards-Walters                1.257130\n",
       "Taylor, Hunt and Rodriguez      1.084802\n",
       "Sanchez-Robinson                1.027934\n",
       "Sanchez, Hays and Wilkerson     0.734977\n",
       "Romero, Woods and Johnson       0.646229\n",
       "Thornton-Davis                  0.560926\n",
       "Anderson-Taylor                 0.416171\n",
       "Richardson Ltd                  0.407555\n",
       "Chapman-Mcmahon                 0.334316\n",
       "Name: financial_institution, dtype: float64"
      ]
     },
     "execution_count": 13,
     "metadata": {},
     "output_type": "execute_result"
    }
   ],
   "source": [
    "data['financial_institution'].value_counts(normalize = True) * 100"
   ]
  },
  {
   "cell_type": "code",
   "execution_count": 14,
   "id": "4b23a12b",
   "metadata": {},
   "outputs": [
    {
     "data": {
      "text/plain": [
       "count    116058.000000\n",
       "mean          3.868961\n",
       "std           0.461020\n",
       "min           2.250000\n",
       "25%           3.500000\n",
       "50%           3.875000\n",
       "75%           4.125000\n",
       "max           6.750000\n",
       "Name: interest_rate, dtype: float64"
      ]
     },
     "execution_count": 14,
     "metadata": {},
     "output_type": "execute_result"
    }
   ],
   "source": [
    "data['interest_rate'].describe()"
   ]
  },
  {
   "cell_type": "code",
   "execution_count": 15,
   "id": "2d81b6c1",
   "metadata": {},
   "outputs": [],
   "source": [
    "import matplotlib.pyplot as plt"
   ]
  },
  {
   "cell_type": "markdown",
   "id": "9f217ca0",
   "metadata": {},
   "source": [
    "The interrate rate values not extreme"
   ]
  },
  {
   "cell_type": "code",
   "execution_count": 16,
   "id": "c2265c6f",
   "metadata": {},
   "outputs": [
    {
     "data": {
      "image/png": "[encoded data removed]",
      "text/plain": [
       "<Figure size 640x480 with 1 Axes>"
      ]
     },
     "metadata": {},
     "output_type": "display_data"
    }
   ],
   "source": [
    "data['interest_rate'].plot(kind=\"box\")\n",
    "plt.show()"
   ]
  },
  {
   "cell_type": "code",
   "execution_count": 17,
   "id": "4e1dd078",
   "metadata": {},
   "outputs": [
    {
     "data": {
      "image/png": "[encoded data removed]",
      "text/plain": [
       "<Figure size 640x480 with 1 Axes>"
      ]
     },
     "metadata": {},
     "output_type": "display_data"
    }
   ],
   "source": [
    "data['unpaid_principal_bal'].plot(kind=\"box\")\n",
    "plt.show()"
   ]
  },
  {
   "cell_type": "code",
   "execution_count": 18,
   "id": "ba80900d",
   "metadata": {},
   "outputs": [
    {
     "data": {
      "text/plain": [
       "count     116058.0\n",
       "mean      208226.0\n",
       "std       114685.0\n",
       "min        11000.0\n",
       "25%       120000.0\n",
       "50%       183000.0\n",
       "75%       278000.0\n",
       "max      1200000.0\n",
       "Name: unpaid_principal_bal, dtype: float64"
      ]
     },
     "execution_count": 18,
     "metadata": {},
     "output_type": "execute_result"
    }
   ],
   "source": [
    "data['unpaid_principal_bal'].describe().round()"
   ]
  },
  {
   "cell_type": "code",
   "execution_count": 19,
   "id": "3902646a",
   "metadata": {},
   "outputs": [
    {
     "data": {
      "text/plain": [
       "Int64Index([84135], dtype='int64')"
      ]
     },
     "execution_count": 19,
     "metadata": {},
     "output_type": "execute_result"
    }
   ],
   "source": [
    "data[data['unpaid_principal_bal'] > 1000000].index"
   ]
  },
  {
   "cell_type": "code",
   "execution_count": 20,
   "id": "14f78122",
   "metadata": {},
   "outputs": [],
   "source": [
    "data = data.drop(84135)"
   ]
  },
  {
   "cell_type": "code",
   "execution_count": 21,
   "id": "8c8e383f",
   "metadata": {},
   "outputs": [
    {
     "name": "stdout",
     "output_type": "stream",
     "text": [
      "<class 'pandas.core.frame.DataFrame'>\n",
      "Int64Index: 116057 entries, 0 to 116057\n",
      "Data columns (total 29 columns):\n",
      " #   Column                    Non-Null Count   Dtype  \n",
      "---  ------                    --------------   -----  \n",
      " 0   loan_id                   116057 non-null  int64  \n",
      " 1   source                    116057 non-null  object \n",
      " 2   financial_institution     116057 non-null  object \n",
      " 3   interest_rate             116057 non-null  float64\n",
      " 4   unpaid_principal_bal      116057 non-null  int64  \n",
      " 5   loan_term                 116057 non-null  int64  \n",
      " 6   origination_date          116057 non-null  object \n",
      " 7   first_payment_date        116057 non-null  object \n",
      " 8   loan_to_value             116057 non-null  int64  \n",
      " 9   number_of_borrowers       116057 non-null  float64\n",
      " 10  debt_to_income_ratio      116057 non-null  float64\n",
      " 11  borrower_credit_score     116057 non-null  float64\n",
      " 12  loan_purpose              116057 non-null  object \n",
      " 13  insurance_percent         116057 non-null  float64\n",
      " 14  co-borrower_credit_score  116057 non-null  float64\n",
      " 15  insurance_type            116057 non-null  float64\n",
      " 16  m1                        116057 non-null  int64  \n",
      " 17  m2                        116057 non-null  int64  \n",
      " 18  m3                        116057 non-null  int64  \n",
      " 19  m4                        116057 non-null  int64  \n",
      " 20  m5                        116057 non-null  int64  \n",
      " 21  m6                        116057 non-null  int64  \n",
      " 22  m7                        116057 non-null  int64  \n",
      " 23  m8                        116057 non-null  int64  \n",
      " 24  m9                        116057 non-null  int64  \n",
      " 25  m10                       116057 non-null  int64  \n",
      " 26  m11                       116057 non-null  int64  \n",
      " 27  m12                       116057 non-null  int64  \n",
      " 28  m13                       116057 non-null  int64  \n",
      "dtypes: float64(7), int64(17), object(5)\n",
      "memory usage: 26.6+ MB\n"
     ]
    }
   ],
   "source": [
    "data.info()"
   ]
  },
  {
   "cell_type": "code",
   "execution_count": 22,
   "id": "ba7fc89b",
   "metadata": {},
   "outputs": [
    {
     "data": {
      "text/plain": [
       "count    116057.000000\n",
       "mean        292.281965\n",
       "std          89.762196\n",
       "min          60.000000\n",
       "25%         180.000000\n",
       "50%         360.000000\n",
       "75%         360.000000\n",
       "max         360.000000\n",
       "Name: loan_term, dtype: float64"
      ]
     },
     "execution_count": 22,
     "metadata": {},
     "output_type": "execute_result"
    }
   ],
   "source": [
    "data['loan_term'].describe()"
   ]
  },
  {
   "cell_type": "code",
   "execution_count": 23,
   "id": "b7616bd5",
   "metadata": {},
   "outputs": [
    {
     "data": {
      "text/plain": [
       "count    116057.000000\n",
       "mean         67.432098\n",
       "std          17.291709\n",
       "min           6.000000\n",
       "25%          57.000000\n",
       "50%          72.000000\n",
       "75%          80.000000\n",
       "max          97.000000\n",
       "Name: loan_to_value, dtype: float64"
      ]
     },
     "execution_count": 23,
     "metadata": {},
     "output_type": "execute_result"
    }
   ],
   "source": [
    "data['loan_to_value'].describe()   #### 0 to 100"
   ]
  },
  {
   "cell_type": "code",
   "execution_count": 24,
   "id": "9d3bc35d",
   "metadata": {},
   "outputs": [
    {
     "data": {
      "text/plain": [
       "<Axes: >"
      ]
     },
     "execution_count": 24,
     "metadata": {},
     "output_type": "execute_result"
    },
    {
     "data": {
      "image/png": "[encoded data removed]",
      "text/plain": [
       "<Figure size 640x480 with 1 Axes>"
      ]
     },
     "metadata": {},
     "output_type": "display_data"
    }
   ],
   "source": [
    "data['loan_to_value'].plot(kind=\"box\")"
   ]
  },
  {
   "cell_type": "code",
   "execution_count": 25,
   "id": "0c072564",
   "metadata": {},
   "outputs": [
    {
     "data": {
      "text/html": [
       "<div>\n",
       "<style scoped>\n",
       "    .dataframe tbody tr th:only-of-type {\n",
       "        vertical-align: middle;\n",
       "    }\n",
       "\n",
       "    .dataframe tbody tr th {\n",
       "        vertical-align: top;\n",
       "    }\n",
       "\n",
       "    .dataframe thead th {\n",
       "        text-align: right;\n",
       "    }\n",
       "</style>\n",
       "<table border=\"1\" class=\"dataframe\">\n",
       "  <thead>\n",
       "    <tr style=\"text-align: right;\">\n",
       "      <th></th>\n",
       "      <th>loan_id</th>\n",
       "      <th>source</th>\n",
       "      <th>financial_institution</th>\n",
       "      <th>interest_rate</th>\n",
       "      <th>unpaid_principal_bal</th>\n",
       "      <th>loan_term</th>\n",
       "      <th>origination_date</th>\n",
       "      <th>first_payment_date</th>\n",
       "      <th>loan_to_value</th>\n",
       "      <th>number_of_borrowers</th>\n",
       "      <th>...</th>\n",
       "      <th>m4</th>\n",
       "      <th>m5</th>\n",
       "      <th>m6</th>\n",
       "      <th>m7</th>\n",
       "      <th>m8</th>\n",
       "      <th>m9</th>\n",
       "      <th>m10</th>\n",
       "      <th>m11</th>\n",
       "      <th>m12</th>\n",
       "      <th>m13</th>\n",
       "    </tr>\n",
       "  </thead>\n",
       "  <tbody>\n",
       "    <tr>\n",
       "      <th>3809</th>\n",
       "      <td>778482838695</td>\n",
       "      <td>X</td>\n",
       "      <td>OTHER</td>\n",
       "      <td>4.375</td>\n",
       "      <td>100000</td>\n",
       "      <td>360</td>\n",
       "      <td>2012-01-01</td>\n",
       "      <td>03/2012</td>\n",
       "      <td>6</td>\n",
       "      <td>2.0</td>\n",
       "      <td>...</td>\n",
       "      <td>0</td>\n",
       "      <td>0</td>\n",
       "      <td>0</td>\n",
       "      <td>0</td>\n",
       "      <td>0</td>\n",
       "      <td>0</td>\n",
       "      <td>0</td>\n",
       "      <td>0</td>\n",
       "      <td>0</td>\n",
       "      <td>0</td>\n",
       "    </tr>\n",
       "    <tr>\n",
       "      <th>49086</th>\n",
       "      <td>347923793768</td>\n",
       "      <td>X</td>\n",
       "      <td>OTHER</td>\n",
       "      <td>3.875</td>\n",
       "      <td>134000</td>\n",
       "      <td>360</td>\n",
       "      <td>2012-02-01</td>\n",
       "      <td>04/2012</td>\n",
       "      <td>6</td>\n",
       "      <td>2.0</td>\n",
       "      <td>...</td>\n",
       "      <td>0</td>\n",
       "      <td>0</td>\n",
       "      <td>0</td>\n",
       "      <td>0</td>\n",
       "      <td>0</td>\n",
       "      <td>0</td>\n",
       "      <td>0</td>\n",
       "      <td>0</td>\n",
       "      <td>0</td>\n",
       "      <td>0</td>\n",
       "    </tr>\n",
       "    <tr>\n",
       "      <th>81533</th>\n",
       "      <td>636086390929</td>\n",
       "      <td>X</td>\n",
       "      <td>OTHER</td>\n",
       "      <td>4.000</td>\n",
       "      <td>42000</td>\n",
       "      <td>360</td>\n",
       "      <td>2012-02-01</td>\n",
       "      <td>04/2012</td>\n",
       "      <td>6</td>\n",
       "      <td>1.0</td>\n",
       "      <td>...</td>\n",
       "      <td>0</td>\n",
       "      <td>0</td>\n",
       "      <td>0</td>\n",
       "      <td>0</td>\n",
       "      <td>0</td>\n",
       "      <td>0</td>\n",
       "      <td>0</td>\n",
       "      <td>0</td>\n",
       "      <td>0</td>\n",
       "      <td>0</td>\n",
       "    </tr>\n",
       "    <tr>\n",
       "      <th>103748</th>\n",
       "      <td>338955015756</td>\n",
       "      <td>Z</td>\n",
       "      <td>Browning-Hart</td>\n",
       "      <td>3.375</td>\n",
       "      <td>81000</td>\n",
       "      <td>180</td>\n",
       "      <td>2012-01-01</td>\n",
       "      <td>03/2012</td>\n",
       "      <td>6</td>\n",
       "      <td>1.0</td>\n",
       "      <td>...</td>\n",
       "      <td>0</td>\n",
       "      <td>0</td>\n",
       "      <td>0</td>\n",
       "      <td>0</td>\n",
       "      <td>0</td>\n",
       "      <td>0</td>\n",
       "      <td>0</td>\n",
       "      <td>0</td>\n",
       "      <td>0</td>\n",
       "      <td>0</td>\n",
       "    </tr>\n",
       "    <tr>\n",
       "      <th>109443</th>\n",
       "      <td>162915736426</td>\n",
       "      <td>Y</td>\n",
       "      <td>Browning-Hart</td>\n",
       "      <td>3.500</td>\n",
       "      <td>90000</td>\n",
       "      <td>180</td>\n",
       "      <td>2012-01-01</td>\n",
       "      <td>03/2012</td>\n",
       "      <td>6</td>\n",
       "      <td>2.0</td>\n",
       "      <td>...</td>\n",
       "      <td>0</td>\n",
       "      <td>0</td>\n",
       "      <td>0</td>\n",
       "      <td>0</td>\n",
       "      <td>0</td>\n",
       "      <td>0</td>\n",
       "      <td>0</td>\n",
       "      <td>0</td>\n",
       "      <td>0</td>\n",
       "      <td>0</td>\n",
       "    </tr>\n",
       "  </tbody>\n",
       "</table>\n",
       "<p>5 rows × 29 columns</p>\n",
       "</div>"
      ],
      "text/plain": [
       "             loan_id source financial_institution  interest_rate  \\\n",
       "3809    778482838695      X                 OTHER          4.375   \n",
       "49086   347923793768      X                 OTHER          3.875   \n",
       "81533   636086390929      X                 OTHER          4.000   \n",
       "103748  338955015756      Z         Browning-Hart          3.375   \n",
       "109443  162915736426      Y         Browning-Hart          3.500   \n",
       "\n",
       "        unpaid_principal_bal  loan_term origination_date first_payment_date  \\\n",
       "3809                  100000        360       2012-01-01            03/2012   \n",
       "49086                 134000        360       2012-02-01            04/2012   \n",
       "81533                  42000        360       2012-02-01            04/2012   \n",
       "103748                 81000        180       2012-01-01            03/2012   \n",
       "109443                 90000        180       2012-01-01            03/2012   \n",
       "\n",
       "        loan_to_value  number_of_borrowers  ...  m4  m5 m6  m7  m8  m9  m10  \\\n",
       "3809                6                  2.0  ...   0   0  0   0   0   0    0   \n",
       "49086               6                  2.0  ...   0   0  0   0   0   0    0   \n",
       "81533               6                  1.0  ...   0   0  0   0   0   0    0   \n",
       "103748              6                  1.0  ...   0   0  0   0   0   0    0   \n",
       "109443              6                  2.0  ...   0   0  0   0   0   0    0   \n",
       "\n",
       "        m11  m12  m13  \n",
       "3809      0    0    0  \n",
       "49086     0    0    0  \n",
       "81533     0    0    0  \n",
       "103748    0    0    0  \n",
       "109443    0    0    0  \n",
       "\n",
       "[5 rows x 29 columns]"
      ]
     },
     "execution_count": 25,
     "metadata": {},
     "output_type": "execute_result"
    }
   ],
   "source": [
    "data[data['loan_to_value'] < 7]"
   ]
  },
  {
   "cell_type": "code",
   "execution_count": 26,
   "id": "e8b41055",
   "metadata": {},
   "outputs": [
    {
     "data": {
      "text/plain": [
       "count    116057.000000\n",
       "mean         30.742135\n",
       "std           9.730692\n",
       "min           1.000000\n",
       "25%          23.000000\n",
       "50%          31.000000\n",
       "75%          39.000000\n",
       "max          64.000000\n",
       "Name: debt_to_income_ratio, dtype: float64"
      ]
     },
     "execution_count": 26,
     "metadata": {},
     "output_type": "execute_result"
    }
   ],
   "source": [
    "data['debt_to_income_ratio'].describe()"
   ]
  },
  {
   "cell_type": "code",
   "execution_count": 27,
   "id": "4188f8b6",
   "metadata": {},
   "outputs": [
    {
     "data": {
      "text/plain": [
       "count    116057.000000\n",
       "mean        769.926545\n",
       "std          42.210813\n",
       "min           0.000000\n",
       "25%         751.000000\n",
       "50%         782.000000\n",
       "75%         800.000000\n",
       "max         840.000000\n",
       "Name: borrower_credit_score, dtype: float64"
      ]
     },
     "execution_count": 27,
     "metadata": {},
     "output_type": "execute_result"
    }
   ],
   "source": [
    "data['borrower_credit_score'].describe()"
   ]
  },
  {
   "cell_type": "code",
   "execution_count": 28,
   "id": "2c8f0e09",
   "metadata": {},
   "outputs": [
    {
     "data": {
      "text/plain": [
       "<Axes: >"
      ]
     },
     "execution_count": 28,
     "metadata": {},
     "output_type": "execute_result"
    },
    {
     "data": {
      "image/png": "[encoded data removed]",
      "text/plain": [
       "<Figure size 640x480 with 1 Axes>"
      ]
     },
     "metadata": {},
     "output_type": "display_data"
    }
   ],
   "source": [
    "data['borrower_credit_score'].plot(kind = \"box\")"
   ]
  },
  {
   "cell_type": "code",
   "execution_count": 29,
   "id": "a4676b23",
   "metadata": {},
   "outputs": [
    {
     "data": {
      "text/plain": [
       "Index(['loan_id', 'source', 'financial_institution', 'interest_rate',\n",
       "       'unpaid_principal_bal', 'loan_term', 'origination_date',\n",
       "       'first_payment_date', 'loan_to_value', 'number_of_borrowers',\n",
       "       'debt_to_income_ratio', 'borrower_credit_score', 'loan_purpose',\n",
       "       'insurance_percent', 'co-borrower_credit_score', 'insurance_type', 'm1',\n",
       "       'm2', 'm3', 'm4', 'm5', 'm6', 'm7', 'm8', 'm9', 'm10', 'm11', 'm12',\n",
       "       'm13'],\n",
       "      dtype='object')"
      ]
     },
     "execution_count": 29,
     "metadata": {},
     "output_type": "execute_result"
    }
   ],
   "source": [
    "data.columns"
   ]
  },
  {
   "cell_type": "code",
   "execution_count": 30,
   "id": "e44b0fe5",
   "metadata": {},
   "outputs": [],
   "source": [
    "repay_cols = ['m1',\n",
    "       'm2', 'm3', 'm4', 'm5', 'm6', 'm7', 'm8', 'm9', 'm10', 'm11', 'm12']"
   ]
  },
  {
   "cell_type": "code",
   "execution_count": 31,
   "id": "b4cf8d07",
   "metadata": {},
   "outputs": [],
   "source": [
    "zero_credit_index = data[data['borrower_credit_score'] < 400][repay_cols].index"
   ]
  },
  {
   "cell_type": "code",
   "execution_count": 32,
   "id": "2442e0c6",
   "metadata": {},
   "outputs": [],
   "source": [
    "data = data.drop(zero_credit_index)"
   ]
  },
  {
   "cell_type": "code",
   "execution_count": 33,
   "id": "e781c72f",
   "metadata": {},
   "outputs": [
    {
     "data": {
      "text/plain": [
       "(116006, 29)"
      ]
     },
     "execution_count": 33,
     "metadata": {},
     "output_type": "execute_result"
    }
   ],
   "source": [
    "data.shape"
   ]
  },
  {
   "cell_type": "code",
   "execution_count": 34,
   "id": "555098a8",
   "metadata": {},
   "outputs": [
    {
     "data": {
      "text/plain": [
       "A23    50.391359\n",
       "B12    25.328000\n",
       "C86    24.280641\n",
       "Name: loan_purpose, dtype: float64"
      ]
     },
     "execution_count": 34,
     "metadata": {},
     "output_type": "execute_result"
    }
   ],
   "source": [
    "data['loan_purpose'].value_counts(normalize = True) * 100"
   ]
  },
  {
   "cell_type": "code",
   "execution_count": 35,
   "id": "f82753ff",
   "metadata": {},
   "outputs": [
    {
     "data": {
      "text/plain": [
       "count    116006.000000\n",
       "mean        459.714515\n",
       "std         381.931527\n",
       "min           0.000000\n",
       "25%           0.000000\n",
       "50%         740.000000\n",
       "75%         791.000000\n",
       "max         836.000000\n",
       "Name: co-borrower_credit_score, dtype: float64"
      ]
     },
     "execution_count": 35,
     "metadata": {},
     "output_type": "execute_result"
    }
   ],
   "source": [
    "data['co-borrower_credit_score'].describe()"
   ]
  },
  {
   "cell_type": "code",
   "execution_count": 36,
   "id": "d3871bed",
   "metadata": {},
   "outputs": [
    {
     "data": {
      "text/plain": [
       "0.0    115628\n",
       "1.0       378\n",
       "Name: insurance_type, dtype: int64"
      ]
     },
     "execution_count": 36,
     "metadata": {},
     "output_type": "execute_result"
    }
   ],
   "source": [
    "data['insurance_type'].value_counts()"
   ]
  },
  {
   "cell_type": "code",
   "execution_count": 37,
   "id": "a8691b50",
   "metadata": {},
   "outputs": [],
   "source": [
    "#### missing value and outliers is done"
   ]
  },
  {
   "cell_type": "markdown",
   "id": "6fba0727",
   "metadata": {},
   "source": [
    "initial models , i would like to remove unnecessary ones"
   ]
  },
  {
   "cell_type": "markdown",
   "id": "3c077f7a",
   "metadata": {},
   "source": []
  },
  {
   "cell_type": "code",
   "execution_count": 38,
   "id": "0c7af639",
   "metadata": {},
   "outputs": [
    {
     "data": {
      "text/plain": [
       "Index(['loan_id', 'source', 'financial_institution', 'interest_rate',\n",
       "       'unpaid_principal_bal', 'loan_term', 'origination_date',\n",
       "       'first_payment_date', 'loan_to_value', 'number_of_borrowers',\n",
       "       'debt_to_income_ratio', 'borrower_credit_score', 'loan_purpose',\n",
       "       'insurance_percent', 'co-borrower_credit_score', 'insurance_type', 'm1',\n",
       "       'm2', 'm3', 'm4', 'm5', 'm6', 'm7', 'm8', 'm9', 'm10', 'm11', 'm12',\n",
       "       'm13'],\n",
       "      dtype='object')"
      ]
     },
     "execution_count": 38,
     "metadata": {},
     "output_type": "execute_result"
    }
   ],
   "source": [
    "data.columns"
   ]
  },
  {
   "cell_type": "code",
   "execution_count": 39,
   "id": "ceabc48a",
   "metadata": {},
   "outputs": [],
   "source": [
    "req_cols = ['source', 'financial_institution', 'interest_rate',\n",
    "       'unpaid_principal_bal', 'loan_term', 'loan_to_value', 'number_of_borrowers',\n",
    "       'debt_to_income_ratio', 'borrower_credit_score', 'loan_purpose',\n",
    "       'insurance_percent', 'co-borrower_credit_score', 'insurance_type', 'm1',\n",
    "       'm2', 'm3', 'm4', 'm5', 'm6', 'm7', 'm8', 'm9', 'm10', 'm11', 'm12']"
   ]
  },
  {
   "cell_type": "code",
   "execution_count": 40,
   "id": "4f1e09c2",
   "metadata": {},
   "outputs": [],
   "source": [
    "x = data[req_cols]"
   ]
  },
  {
   "cell_type": "code",
   "execution_count": 41,
   "id": "2e5fbbe0",
   "metadata": {},
   "outputs": [],
   "source": [
    "y = data['m13']"
   ]
  },
  {
   "cell_type": "code",
   "execution_count": 42,
   "id": "4037fdc6",
   "metadata": {},
   "outputs": [
    {
     "data": {
      "text/plain": [
       "0    99.451752\n",
       "1     0.548248\n",
       "Name: m13, dtype: float64"
      ]
     },
     "execution_count": 42,
     "metadata": {},
     "output_type": "execute_result"
    }
   ],
   "source": [
    "y.value_counts(normalize = True) * 100"
   ]
  },
  {
   "cell_type": "code",
   "execution_count": 43,
   "id": "88778040",
   "metadata": {},
   "outputs": [
    {
     "data": {
      "text/plain": [
       "Index(['source', 'financial_institution', 'interest_rate',\n",
       "       'unpaid_principal_bal', 'loan_term', 'loan_to_value',\n",
       "       'number_of_borrowers', 'debt_to_income_ratio', 'borrower_credit_score',\n",
       "       'loan_purpose', 'insurance_percent', 'co-borrower_credit_score',\n",
       "       'insurance_type', 'm1', 'm2', 'm3', 'm4', 'm5', 'm6', 'm7', 'm8', 'm9',\n",
       "       'm10', 'm11', 'm12'],\n",
       "      dtype='object')"
      ]
     },
     "execution_count": 43,
     "metadata": {},
     "output_type": "execute_result"
    }
   ],
   "source": [
    "x.columns"
   ]
  },
  {
   "cell_type": "code",
   "execution_count": 44,
   "id": "c667481e",
   "metadata": {},
   "outputs": [
    {
     "data": {
      "text/plain": [
       "(116006, 25)"
      ]
     },
     "execution_count": 44,
     "metadata": {},
     "output_type": "execute_result"
    }
   ],
   "source": [
    "x.shape"
   ]
  },
  {
   "cell_type": "code",
   "execution_count": 45,
   "id": "3cbfc3b9",
   "metadata": {},
   "outputs": [],
   "source": [
    "#### 19 financial institutions"
   ]
  },
  {
   "cell_type": "code",
   "execution_count": 46,
   "id": "50522f01",
   "metadata": {},
   "outputs": [],
   "source": [
    "x = pd.get_dummies(x)"
   ]
  },
  {
   "cell_type": "code",
   "execution_count": 47,
   "id": "10d58564",
   "metadata": {},
   "outputs": [
    {
     "name": "stdout",
     "output_type": "stream",
     "text": [
      "<class 'pandas.core.frame.DataFrame'>\n",
      "Int64Index: 116006 entries, 0 to 116057\n",
      "Data columns (total 47 columns):\n",
      " #   Column                                             Non-Null Count   Dtype  \n",
      "---  ------                                             --------------   -----  \n",
      " 0   interest_rate                                      116006 non-null  float64\n",
      " 1   unpaid_principal_bal                               116006 non-null  int64  \n",
      " 2   loan_term                                          116006 non-null  int64  \n",
      " 3   loan_to_value                                      116006 non-null  int64  \n",
      " 4   number_of_borrowers                                116006 non-null  float64\n",
      " 5   debt_to_income_ratio                               116006 non-null  float64\n",
      " 6   borrower_credit_score                              116006 non-null  float64\n",
      " 7   insurance_percent                                  116006 non-null  float64\n",
      " 8   co-borrower_credit_score                           116006 non-null  float64\n",
      " 9   insurance_type                                     116006 non-null  float64\n",
      " 10  m1                                                 116006 non-null  int64  \n",
      " 11  m2                                                 116006 non-null  int64  \n",
      " 12  m3                                                 116006 non-null  int64  \n",
      " 13  m4                                                 116006 non-null  int64  \n",
      " 14  m5                                                 116006 non-null  int64  \n",
      " 15  m6                                                 116006 non-null  int64  \n",
      " 16  m7                                                 116006 non-null  int64  \n",
      " 17  m8                                                 116006 non-null  int64  \n",
      " 18  m9                                                 116006 non-null  int64  \n",
      " 19  m10                                                116006 non-null  int64  \n",
      " 20  m11                                                116006 non-null  int64  \n",
      " 21  m12                                                116006 non-null  int64  \n",
      " 22  source_X                                           116006 non-null  uint8  \n",
      " 23  source_Y                                           116006 non-null  uint8  \n",
      " 24  source_Z                                           116006 non-null  uint8  \n",
      " 25  financial_institution_Anderson-Taylor              116006 non-null  uint8  \n",
      " 26  financial_institution_Browning-Hart                116006 non-null  uint8  \n",
      " 27  financial_institution_Chapman-Mcmahon              116006 non-null  uint8  \n",
      " 28  financial_institution_Cole, Brooks and Vincent     116006 non-null  uint8  \n",
      " 29  financial_institution_Edwards-Hoffman              116006 non-null  uint8  \n",
      " 30  financial_institution_Martinez, Duffy and Bird     116006 non-null  uint8  \n",
      " 31  financial_institution_Miller, Mcclure and Allen    116006 non-null  uint8  \n",
      " 32  financial_institution_Nicholson Group              116006 non-null  uint8  \n",
      " 33  financial_institution_OTHER                        116006 non-null  uint8  \n",
      " 34  financial_institution_Richards-Walters             116006 non-null  uint8  \n",
      " 35  financial_institution_Richardson Ltd               116006 non-null  uint8  \n",
      " 36  financial_institution_Romero, Woods and Johnson    116006 non-null  uint8  \n",
      " 37  financial_institution_Sanchez, Hays and Wilkerson  116006 non-null  uint8  \n",
      " 38  financial_institution_Sanchez-Robinson             116006 non-null  uint8  \n",
      " 39  financial_institution_Suarez Inc                   116006 non-null  uint8  \n",
      " 40  financial_institution_Swanson, Newton and Miller   116006 non-null  uint8  \n",
      " 41  financial_institution_Taylor, Hunt and Rodriguez   116006 non-null  uint8  \n",
      " 42  financial_institution_Thornton-Davis               116006 non-null  uint8  \n",
      " 43  financial_institution_Turner, Baldwin and Rhodes   116006 non-null  uint8  \n",
      " 44  loan_purpose_A23                                   116006 non-null  uint8  \n",
      " 45  loan_purpose_B12                                   116006 non-null  uint8  \n",
      " 46  loan_purpose_C86                                   116006 non-null  uint8  \n",
      "dtypes: float64(7), int64(15), uint8(25)\n",
      "memory usage: 23.1 MB\n"
     ]
    }
   ],
   "source": [
    "x.info()"
   ]
  },
  {
   "cell_type": "code",
   "execution_count": 48,
   "id": "d60682ba",
   "metadata": {},
   "outputs": [
    {
     "data": {
      "text/html": [
       "<div>\n",
       "<style scoped>\n",
       "    .dataframe tbody tr th:only-of-type {\n",
       "        vertical-align: middle;\n",
       "    }\n",
       "\n",
       "    .dataframe tbody tr th {\n",
       "        vertical-align: top;\n",
       "    }\n",
       "\n",
       "    .dataframe thead th {\n",
       "        text-align: right;\n",
       "    }\n",
       "</style>\n",
       "<table border=\"1\" class=\"dataframe\">\n",
       "  <thead>\n",
       "    <tr style=\"text-align: right;\">\n",
       "      <th></th>\n",
       "      <th>interest_rate</th>\n",
       "      <th>unpaid_principal_bal</th>\n",
       "      <th>loan_term</th>\n",
       "      <th>loan_to_value</th>\n",
       "      <th>number_of_borrowers</th>\n",
       "      <th>debt_to_income_ratio</th>\n",
       "      <th>borrower_credit_score</th>\n",
       "      <th>insurance_percent</th>\n",
       "      <th>co-borrower_credit_score</th>\n",
       "      <th>insurance_type</th>\n",
       "      <th>...</th>\n",
       "      <th>financial_institution_Sanchez, Hays and Wilkerson</th>\n",
       "      <th>financial_institution_Sanchez-Robinson</th>\n",
       "      <th>financial_institution_Suarez Inc</th>\n",
       "      <th>financial_institution_Swanson, Newton and Miller</th>\n",
       "      <th>financial_institution_Taylor, Hunt and Rodriguez</th>\n",
       "      <th>financial_institution_Thornton-Davis</th>\n",
       "      <th>financial_institution_Turner, Baldwin and Rhodes</th>\n",
       "      <th>loan_purpose_A23</th>\n",
       "      <th>loan_purpose_B12</th>\n",
       "      <th>loan_purpose_C86</th>\n",
       "    </tr>\n",
       "  </thead>\n",
       "  <tbody>\n",
       "    <tr>\n",
       "      <th>count</th>\n",
       "      <td>116006.000000</td>\n",
       "      <td>116006.000000</td>\n",
       "      <td>116006.000000</td>\n",
       "      <td>116006.000000</td>\n",
       "      <td>116006.000000</td>\n",
       "      <td>116006.000000</td>\n",
       "      <td>116006.000000</td>\n",
       "      <td>116006.000000</td>\n",
       "      <td>116006.000000</td>\n",
       "      <td>116006.000000</td>\n",
       "      <td>...</td>\n",
       "      <td>116006.000000</td>\n",
       "      <td>116006.000000</td>\n",
       "      <td>116006.000000</td>\n",
       "      <td>116006.000000</td>\n",
       "      <td>116006.000000</td>\n",
       "      <td>116006.000000</td>\n",
       "      <td>116006.000000</td>\n",
       "      <td>116006.000000</td>\n",
       "      <td>116006.000000</td>\n",
       "      <td>116006.000000</td>\n",
       "    </tr>\n",
       "    <tr>\n",
       "      <th>mean</th>\n",
       "      <td>3.868913</td>\n",
       "      <td>208225.496957</td>\n",
       "      <td>292.271331</td>\n",
       "      <td>67.429314</td>\n",
       "      <td>1.593254</td>\n",
       "      <td>30.744539</td>\n",
       "      <td>770.265029</td>\n",
       "      <td>2.786330</td>\n",
       "      <td>459.714515</td>\n",
       "      <td>0.003258</td>\n",
       "      <td>...</td>\n",
       "      <td>0.007353</td>\n",
       "      <td>0.010284</td>\n",
       "      <td>0.015430</td>\n",
       "      <td>0.059256</td>\n",
       "      <td>0.010853</td>\n",
       "      <td>0.005612</td>\n",
       "      <td>0.015913</td>\n",
       "      <td>0.503914</td>\n",
       "      <td>0.253280</td>\n",
       "      <td>0.242806</td>\n",
       "    </tr>\n",
       "    <tr>\n",
       "      <th>std</th>\n",
       "      <td>0.460992</td>\n",
       "      <td>114654.925134</td>\n",
       "      <td>89.765255</td>\n",
       "      <td>17.293600</td>\n",
       "      <td>0.491229</td>\n",
       "      <td>9.729575</td>\n",
       "      <td>39.010395</td>\n",
       "      <td>8.096376</td>\n",
       "      <td>381.931527</td>\n",
       "      <td>0.056990</td>\n",
       "      <td>...</td>\n",
       "      <td>0.085435</td>\n",
       "      <td>0.100887</td>\n",
       "      <td>0.123257</td>\n",
       "      <td>0.236103</td>\n",
       "      <td>0.103611</td>\n",
       "      <td>0.074702</td>\n",
       "      <td>0.125139</td>\n",
       "      <td>0.499987</td>\n",
       "      <td>0.434892</td>\n",
       "      <td>0.428781</td>\n",
       "    </tr>\n",
       "    <tr>\n",
       "      <th>min</th>\n",
       "      <td>2.250000</td>\n",
       "      <td>11000.000000</td>\n",
       "      <td>60.000000</td>\n",
       "      <td>6.000000</td>\n",
       "      <td>1.000000</td>\n",
       "      <td>1.000000</td>\n",
       "      <td>480.000000</td>\n",
       "      <td>0.000000</td>\n",
       "      <td>0.000000</td>\n",
       "      <td>0.000000</td>\n",
       "      <td>...</td>\n",
       "      <td>0.000000</td>\n",
       "      <td>0.000000</td>\n",
       "      <td>0.000000</td>\n",
       "      <td>0.000000</td>\n",
       "      <td>0.000000</td>\n",
       "      <td>0.000000</td>\n",
       "      <td>0.000000</td>\n",
       "      <td>0.000000</td>\n",
       "      <td>0.000000</td>\n",
       "      <td>0.000000</td>\n",
       "    </tr>\n",
       "    <tr>\n",
       "      <th>25%</th>\n",
       "      <td>3.500000</td>\n",
       "      <td>120000.000000</td>\n",
       "      <td>180.000000</td>\n",
       "      <td>57.000000</td>\n",
       "      <td>1.000000</td>\n",
       "      <td>23.000000</td>\n",
       "      <td>751.000000</td>\n",
       "      <td>0.000000</td>\n",
       "      <td>0.000000</td>\n",
       "      <td>0.000000</td>\n",
       "      <td>...</td>\n",
       "      <td>0.000000</td>\n",
       "      <td>0.000000</td>\n",
       "      <td>0.000000</td>\n",
       "      <td>0.000000</td>\n",
       "      <td>0.000000</td>\n",
       "      <td>0.000000</td>\n",
       "      <td>0.000000</td>\n",
       "      <td>0.000000</td>\n",
       "      <td>0.000000</td>\n",
       "      <td>0.000000</td>\n",
       "    </tr>\n",
       "    <tr>\n",
       "      <th>50%</th>\n",
       "      <td>3.875000</td>\n",
       "      <td>183000.000000</td>\n",
       "      <td>360.000000</td>\n",
       "      <td>72.000000</td>\n",
       "      <td>2.000000</td>\n",
       "      <td>31.000000</td>\n",
       "      <td>782.000000</td>\n",
       "      <td>0.000000</td>\n",
       "      <td>740.000000</td>\n",
       "      <td>0.000000</td>\n",
       "      <td>...</td>\n",
       "      <td>0.000000</td>\n",
       "      <td>0.000000</td>\n",
       "      <td>0.000000</td>\n",
       "      <td>0.000000</td>\n",
       "      <td>0.000000</td>\n",
       "      <td>0.000000</td>\n",
       "      <td>0.000000</td>\n",
       "      <td>1.000000</td>\n",
       "      <td>0.000000</td>\n",
       "      <td>0.000000</td>\n",
       "    </tr>\n",
       "    <tr>\n",
       "      <th>75%</th>\n",
       "      <td>4.125000</td>\n",
       "      <td>278000.000000</td>\n",
       "      <td>360.000000</td>\n",
       "      <td>80.000000</td>\n",
       "      <td>2.000000</td>\n",
       "      <td>39.000000</td>\n",
       "      <td>800.000000</td>\n",
       "      <td>0.000000</td>\n",
       "      <td>791.000000</td>\n",
       "      <td>0.000000</td>\n",
       "      <td>...</td>\n",
       "      <td>0.000000</td>\n",
       "      <td>0.000000</td>\n",
       "      <td>0.000000</td>\n",
       "      <td>0.000000</td>\n",
       "      <td>0.000000</td>\n",
       "      <td>0.000000</td>\n",
       "      <td>0.000000</td>\n",
       "      <td>1.000000</td>\n",
       "      <td>1.000000</td>\n",
       "      <td>0.000000</td>\n",
       "    </tr>\n",
       "    <tr>\n",
       "      <th>max</th>\n",
       "      <td>6.750000</td>\n",
       "      <td>968000.000000</td>\n",
       "      <td>360.000000</td>\n",
       "      <td>97.000000</td>\n",
       "      <td>2.000000</td>\n",
       "      <td>64.000000</td>\n",
       "      <td>840.000000</td>\n",
       "      <td>40.000000</td>\n",
       "      <td>836.000000</td>\n",
       "      <td>1.000000</td>\n",
       "      <td>...</td>\n",
       "      <td>1.000000</td>\n",
       "      <td>1.000000</td>\n",
       "      <td>1.000000</td>\n",
       "      <td>1.000000</td>\n",
       "      <td>1.000000</td>\n",
       "      <td>1.000000</td>\n",
       "      <td>1.000000</td>\n",
       "      <td>1.000000</td>\n",
       "      <td>1.000000</td>\n",
       "      <td>1.000000</td>\n",
       "    </tr>\n",
       "  </tbody>\n",
       "</table>\n",
       "<p>8 rows × 47 columns</p>\n",
       "</div>"
      ],
      "text/plain": [
       "       interest_rate  unpaid_principal_bal      loan_term  loan_to_value  \\\n",
       "count  116006.000000         116006.000000  116006.000000  116006.000000   \n",
       "mean        3.868913         208225.496957     292.271331      67.429314   \n",
       "std         0.460992         114654.925134      89.765255      17.293600   \n",
       "min         2.250000          11000.000000      60.000000       6.000000   \n",
       "25%         3.500000         120000.000000     180.000000      57.000000   \n",
       "50%         3.875000         183000.000000     360.000000      72.000000   \n",
       "75%         4.125000         278000.000000     360.000000      80.000000   \n",
       "max         6.750000         968000.000000     360.000000      97.000000   \n",
       "\n",
       "       number_of_borrowers  debt_to_income_ratio  borrower_credit_score  \\\n",
       "count        116006.000000         116006.000000          116006.000000   \n",
       "mean              1.593254             30.744539             770.265029   \n",
       "std               0.491229              9.729575              39.010395   \n",
       "min               1.000000              1.000000             480.000000   \n",
       "25%               1.000000             23.000000             751.000000   \n",
       "50%               2.000000             31.000000             782.000000   \n",
       "75%               2.000000             39.000000             800.000000   \n",
       "max               2.000000             64.000000             840.000000   \n",
       "\n",
       "       insurance_percent  co-borrower_credit_score  insurance_type  ...  \\\n",
       "count      116006.000000             116006.000000   116006.000000  ...   \n",
       "mean            2.786330                459.714515        0.003258  ...   \n",
       "std             8.096376                381.931527        0.056990  ...   \n",
       "min             0.000000                  0.000000        0.000000  ...   \n",
       "25%             0.000000                  0.000000        0.000000  ...   \n",
       "50%             0.000000                740.000000        0.000000  ...   \n",
       "75%             0.000000                791.000000        0.000000  ...   \n",
       "max            40.000000                836.000000        1.000000  ...   \n",
       "\n",
       "       financial_institution_Sanchez, Hays and Wilkerson  \\\n",
       "count                                      116006.000000   \n",
       "mean                                            0.007353   \n",
       "std                                             0.085435   \n",
       "min                                             0.000000   \n",
       "25%                                             0.000000   \n",
       "50%                                             0.000000   \n",
       "75%                                             0.000000   \n",
       "max                                             1.000000   \n",
       "\n",
       "       financial_institution_Sanchez-Robinson  \\\n",
       "count                           116006.000000   \n",
       "mean                                 0.010284   \n",
       "std                                  0.100887   \n",
       "min                                  0.000000   \n",
       "25%                                  0.000000   \n",
       "50%                                  0.000000   \n",
       "75%                                  0.000000   \n",
       "max                                  1.000000   \n",
       "\n",
       "       financial_institution_Suarez Inc  \\\n",
       "count                     116006.000000   \n",
       "mean                           0.015430   \n",
       "std                            0.123257   \n",
       "min                            0.000000   \n",
       "25%                            0.000000   \n",
       "50%                            0.000000   \n",
       "75%                            0.000000   \n",
       "max                            1.000000   \n",
       "\n",
       "       financial_institution_Swanson, Newton and Miller  \\\n",
       "count                                     116006.000000   \n",
       "mean                                           0.059256   \n",
       "std                                            0.236103   \n",
       "min                                            0.000000   \n",
       "25%                                            0.000000   \n",
       "50%                                            0.000000   \n",
       "75%                                            0.000000   \n",
       "max                                            1.000000   \n",
       "\n",
       "       financial_institution_Taylor, Hunt and Rodriguez  \\\n",
       "count                                     116006.000000   \n",
       "mean                                           0.010853   \n",
       "std                                            0.103611   \n",
       "min                                            0.000000   \n",
       "25%                                            0.000000   \n",
       "50%                                            0.000000   \n",
       "75%                                            0.000000   \n",
       "max                                            1.000000   \n",
       "\n",
       "       financial_institution_Thornton-Davis  \\\n",
       "count                         116006.000000   \n",
       "mean                               0.005612   \n",
       "std                                0.074702   \n",
       "min                                0.000000   \n",
       "25%                                0.000000   \n",
       "50%                                0.000000   \n",
       "75%                                0.000000   \n",
       "max                                1.000000   \n",
       "\n",
       "       financial_institution_Turner, Baldwin and Rhodes  loan_purpose_A23  \\\n",
       "count                                     116006.000000     116006.000000   \n",
       "mean                                           0.015913          0.503914   \n",
       "std                                            0.125139          0.499987   \n",
       "min                                            0.000000          0.000000   \n",
       "25%                                            0.000000          0.000000   \n",
       "50%                                            0.000000          1.000000   \n",
       "75%                                            0.000000          1.000000   \n",
       "max                                            1.000000          1.000000   \n",
       "\n",
       "       loan_purpose_B12  loan_purpose_C86  \n",
       "count     116006.000000     116006.000000  \n",
       "mean           0.253280          0.242806  \n",
       "std            0.434892          0.428781  \n",
       "min            0.000000          0.000000  \n",
       "25%            0.000000          0.000000  \n",
       "50%            0.000000          0.000000  \n",
       "75%            1.000000          0.000000  \n",
       "max            1.000000          1.000000  \n",
       "\n",
       "[8 rows x 47 columns]"
      ]
     },
     "execution_count": 48,
     "metadata": {},
     "output_type": "execute_result"
    }
   ],
   "source": [
    "x.describe()"
   ]
  },
  {
   "cell_type": "code",
   "execution_count": null,
   "id": "303c8228",
   "metadata": {},
   "outputs": [],
   "source": []
  },
  {
   "cell_type": "code",
   "execution_count": 49,
   "id": "1ab02c55",
   "metadata": {},
   "outputs": [],
   "source": [
    "### extra featutres from the existing ones"
   ]
  },
  {
   "cell_type": "code",
   "execution_count": 50,
   "id": "1d48077d",
   "metadata": {},
   "outputs": [],
   "source": [
    "x[\"total_credit_score\"] = x['borrower_credit_score'] + x['co-borrower_credit_score']"
   ]
  },
  {
   "cell_type": "code",
   "execution_count": 51,
   "id": "523d2e7b",
   "metadata": {},
   "outputs": [],
   "source": [
    "x = x.drop(['borrower_credit_score','co-borrower_credit_score'], axis=1)"
   ]
  },
  {
   "cell_type": "code",
   "execution_count": 52,
   "id": "e909048b",
   "metadata": {},
   "outputs": [],
   "source": [
    "repay_cols = ['m1',\n",
    "       'm2', 'm3', 'm4', 'm5', 'm6', 'm7', 'm8', 'm9', 'm10', 'm11', 'm12']"
   ]
  },
  {
   "cell_type": "code",
   "execution_count": 53,
   "id": "55189c7a",
   "metadata": {},
   "outputs": [],
   "source": [
    "x[\"m_mean\"] = x[repay_cols].mean(axis=1)"
   ]
  },
  {
   "cell_type": "code",
   "execution_count": null,
   "id": "e3b56bf7",
   "metadata": {},
   "outputs": [],
   "source": []
  },
  {
   "cell_type": "code",
   "execution_count": 54,
   "id": "c13e3436",
   "metadata": {},
   "outputs": [
    {
     "data": {
      "text/plain": [
       "-1.6500000000000004"
      ]
     },
     "execution_count": 54,
     "metadata": {},
     "output_type": "execute_result"
    }
   ],
   "source": [
    "x[repay_cols].loc[3,repay_cols].kurt()"
   ]
  },
  {
   "cell_type": "code",
   "execution_count": null,
   "id": "c19437ce",
   "metadata": {},
   "outputs": [],
   "source": []
  },
  {
   "cell_type": "code",
   "execution_count": 55,
   "id": "2cee00a6",
   "metadata": {},
   "outputs": [],
   "source": [
    "x[\"m_median\"] = x[repay_cols].median(axis=1)"
   ]
  },
  {
   "cell_type": "code",
   "execution_count": 56,
   "id": "f430a47a",
   "metadata": {},
   "outputs": [],
   "source": [
    "x[\"m_std\"] = x[repay_cols].std(axis=1)"
   ]
  },
  {
   "cell_type": "code",
   "execution_count": 57,
   "id": "335ec577",
   "metadata": {},
   "outputs": [],
   "source": [
    "x[\"m_skew\"] = x[repay_cols].skew(axis=1)"
   ]
  },
  {
   "cell_type": "code",
   "execution_count": 108,
   "id": "d1004e89",
   "metadata": {},
   "outputs": [],
   "source": [
    "x[\"m_kurt\"] = x[repay_cols].kurt(axis=1)"
   ]
  },
  {
   "cell_type": "code",
   "execution_count": 109,
   "id": "cd7f76d4",
   "metadata": {},
   "outputs": [
    {
     "data": {
      "text/plain": [
       "Index(['interest_rate', 'unpaid_principal_bal', 'loan_term', 'loan_to_value',\n",
       "       'number_of_borrowers', 'debt_to_income_ratio', 'insurance_percent',\n",
       "       'insurance_type', 'm1', 'm2', 'm3', 'm4', 'm5', 'm6', 'm7', 'm8', 'm9',\n",
       "       'm10', 'm11', 'm12', 'source_X', 'source_Y', 'source_Z',\n",
       "       'financial_institution_Anderson-Taylor',\n",
       "       'financial_institution_Browning-Hart',\n",
       "       'financial_institution_Chapman-Mcmahon',\n",
       "       'financial_institution_Cole, Brooks and Vincent',\n",
       "       'financial_institution_Edwards-Hoffman',\n",
       "       'financial_institution_Martinez, Duffy and Bird',\n",
       "       'financial_institution_Miller, Mcclure and Allen',\n",
       "       'financial_institution_Nicholson Group', 'financial_institution_OTHER',\n",
       "       'financial_institution_Richards-Walters',\n",
       "       'financial_institution_Richardson Ltd',\n",
       "       'financial_institution_Romero, Woods and Johnson',\n",
       "       'financial_institution_Sanchez, Hays and Wilkerson',\n",
       "       'financial_institution_Sanchez-Robinson',\n",
       "       'financial_institution_Suarez Inc',\n",
       "       'financial_institution_Swanson, Newton and Miller',\n",
       "       'financial_institution_Taylor, Hunt and Rodriguez',\n",
       "       'financial_institution_Thornton-Davis',\n",
       "       'financial_institution_Turner, Baldwin and Rhodes', 'loan_purpose_A23',\n",
       "       'loan_purpose_B12', 'loan_purpose_C86', 'total_credit_score', 'm_mean',\n",
       "       'm_median', 'm_std', 'm_skew', 'm_kurt'],\n",
       "      dtype='object')"
      ]
     },
     "execution_count": 109,
     "metadata": {},
     "output_type": "execute_result"
    }
   ],
   "source": [
    "x.columns"
   ]
  },
  {
   "cell_type": "code",
   "execution_count": null,
   "id": "e2eac336",
   "metadata": {},
   "outputs": [],
   "source": []
  },
  {
   "cell_type": "code",
   "execution_count": 84,
   "id": "87f8f171",
   "metadata": {},
   "outputs": [],
   "source": [
    "### standard scaling or min max scaling"
   ]
  },
  {
   "cell_type": "code",
   "execution_count": 85,
   "id": "b3b70bd1",
   "metadata": {},
   "outputs": [],
   "source": [
    "### if you want to go with tree based algorithms , you no need to the scaling"
   ]
  },
  {
   "cell_type": "code",
   "execution_count": 86,
   "id": "730ab612",
   "metadata": {},
   "outputs": [],
   "source": [
    "### logistic regression, knn, svm, ### you need scaling"
   ]
  },
  {
   "cell_type": "markdown",
   "id": "9ac45667",
   "metadata": {},
   "source": [
    "#### i dont want to discturb the extreme points , just want to bring the data into smaller scale , i can go with min max"
   ]
  },
  {
   "cell_type": "code",
   "execution_count": 87,
   "id": "8531fdab",
   "metadata": {},
   "outputs": [],
   "source": [
    "from sklearn.preprocessing import MinMaxScaler"
   ]
  },
  {
   "cell_type": "code",
   "execution_count": 88,
   "id": "afc05622",
   "metadata": {},
   "outputs": [],
   "source": [
    "### assume i also want to go cross validation "
   ]
  },
  {
   "cell_type": "code",
   "execution_count": 111,
   "id": "9f042944",
   "metadata": {},
   "outputs": [
    {
     "data": {
      "text/plain": [
       "0    0.994518\n",
       "1    0.005482\n",
       "Name: m13, dtype: float64"
      ]
     },
     "execution_count": 111,
     "metadata": {},
     "output_type": "execute_result"
    }
   ],
   "source": [
    "y.value_counts(normalize = True)"
   ]
  },
  {
   "cell_type": "code",
   "execution_count": 116,
   "id": "85c466e6",
   "metadata": {},
   "outputs": [
    {
     "data": {
      "text/plain": [
       "0    115370\n",
       "1       636\n",
       "Name: m13, dtype: int64"
      ]
     },
     "execution_count": 116,
     "metadata": {},
     "output_type": "execute_result"
    }
   ],
   "source": [
    "y.value_counts()"
   ]
  },
  {
   "cell_type": "code",
   "execution_count": null,
   "id": "ec485298",
   "metadata": {},
   "outputs": [],
   "source": [
    "### over sampling  "
   ]
  },
  {
   "cell_type": "code",
   "execution_count": null,
   "id": "d70c4344",
   "metadata": {},
   "outputs": [],
   "source": []
  },
  {
   "cell_type": "markdown",
   "id": "d206737a",
   "metadata": {},
   "source": [
    "0 - 115370 , 1  115370 "
   ]
  },
  {
   "cell_type": "code",
   "execution_count": 118,
   "id": "e397b46f",
   "metadata": {},
   "outputs": [],
   "source": [
    "#### under sampling"
   ]
  },
  {
   "cell_type": "markdown",
   "id": "fa2c1977",
   "metadata": {},
   "source": [
    "0 - 636, 1 - 636"
   ]
  },
  {
   "cell_type": "code",
   "execution_count": null,
   "id": "e6eee55a",
   "metadata": {},
   "outputs": [],
   "source": [
    "#### "
   ]
  },
  {
   "cell_type": "code",
   "execution_count": null,
   "id": "d419ace3",
   "metadata": {},
   "outputs": [],
   "source": []
  },
  {
   "cell_type": "markdown",
   "id": "a72efeaf",
   "metadata": {},
   "source": [
    " if consider we have enough data, i can can do the cross validation on the training data itself"
   ]
  },
  {
   "cell_type": "code",
   "execution_count": 89,
   "id": "b73e63fe",
   "metadata": {},
   "outputs": [],
   "source": [
    "from sklearn.model_selection import train_test_split"
   ]
  },
  {
   "cell_type": "code",
   "execution_count": 112,
   "id": "c3ec60a6",
   "metadata": {},
   "outputs": [],
   "source": [
    "x_train, x_test , y_train, y_test = train_test_split(x,y, test_size = 0.2,\n",
    "                                                    random_state = 345, \n",
    "                                                     stratify= y )"
   ]
  },
  {
   "cell_type": "code",
   "execution_count": 113,
   "id": "8f188226",
   "metadata": {},
   "outputs": [],
   "source": [
    "sc = MinMaxScaler()"
   ]
  },
  {
   "cell_type": "code",
   "execution_count": 114,
   "id": "57c510fa",
   "metadata": {},
   "outputs": [],
   "source": [
    "x_train = sc.fit_transform(x_train)\n",
    "x_test = sc.fit_transform(x_test)"
   ]
  },
  {
   "cell_type": "code",
   "execution_count": null,
   "id": "834bc27b",
   "metadata": {},
   "outputs": [],
   "source": []
  },
  {
   "cell_type": "code",
   "execution_count": 135,
   "id": "ce9287e8",
   "metadata": {},
   "outputs": [],
   "source": [
    "###### evaluation metric     ### 0 - 99.5 1- 0.5"
   ]
  },
  {
   "cell_type": "code",
   "execution_count": 136,
   "id": "1f4a3607",
   "metadata": {},
   "outputs": [],
   "source": [
    "#### my model predicted all \"1\" class wrong"
   ]
  },
  {
   "cell_type": "code",
   "execution_count": 137,
   "id": "bf5b3608",
   "metadata": {},
   "outputs": [
    {
     "data": {
      "text/plain": [
       "99.5"
      ]
     },
     "execution_count": 137,
     "metadata": {},
     "output_type": "execute_result"
    }
   ],
   "source": [
    "99.5 "
   ]
  },
  {
   "cell_type": "code",
   "execution_count": 138,
   "id": "8b0951fd",
   "metadata": {},
   "outputs": [],
   "source": [
    "### precison is not a metric,,, recall we need "
   ]
  },
  {
   "cell_type": "code",
   "execution_count": 139,
   "id": "9f963528",
   "metadata": {},
   "outputs": [],
   "source": [
    "#### f1 score"
   ]
  },
  {
   "cell_type": "code",
   "execution_count": 140,
   "id": "de33d26b",
   "metadata": {},
   "outputs": [],
   "source": [
    "#### i dont to loose the good customers, at the same time i dont want bad customers"
   ]
  },
  {
   "cell_type": "code",
   "execution_count": 141,
   "id": "1fd2e376",
   "metadata": {},
   "outputs": [],
   "source": [
    "#### equal priority for both 1 and 0"
   ]
  },
  {
   "cell_type": "code",
   "execution_count": 142,
   "id": "ac4ae8cb",
   "metadata": {},
   "outputs": [],
   "source": [
    "from sklearn.linear_model import LogisticRegression"
   ]
  },
  {
   "cell_type": "code",
   "execution_count": 145,
   "id": "a568b56d",
   "metadata": {},
   "outputs": [],
   "source": [
    "lg = LogisticRegression(max_iter = 5000)"
   ]
  },
  {
   "cell_type": "code",
   "execution_count": 146,
   "id": "a631d49e",
   "metadata": {},
   "outputs": [
    {
     "data": {
      "text/plain": [
       "LogisticRegression(max_iter=5000)"
      ]
     },
     "execution_count": 146,
     "metadata": {},
     "output_type": "execute_result"
    }
   ],
   "source": [
    "lg.fit(x_train, y_train)"
   ]
  },
  {
   "cell_type": "code",
   "execution_count": 147,
   "id": "99f6f47f",
   "metadata": {},
   "outputs": [],
   "source": [
    "y_pred = lg.predict(x_test)"
   ]
  },
  {
   "cell_type": "code",
   "execution_count": 156,
   "id": "fee22610",
   "metadata": {},
   "outputs": [],
   "source": [
    "from sklearn.metrics import f1_score, confusion_matrix, recall_score"
   ]
  },
  {
   "cell_type": "code",
   "execution_count": 149,
   "id": "a6366fc2",
   "metadata": {},
   "outputs": [
    {
     "data": {
      "text/plain": [
       "0.4117647058823529"
      ]
     },
     "execution_count": 149,
     "metadata": {},
     "output_type": "execute_result"
    }
   ],
   "source": [
    "f1_score(y_test, y_pred)"
   ]
  },
  {
   "cell_type": "code",
   "execution_count": 154,
   "id": "7a89c5d5",
   "metadata": {},
   "outputs": [
    {
     "data": {
      "text/plain": [
       "0    23075\n",
       "1      127\n",
       "Name: m13, dtype: int64"
      ]
     },
     "execution_count": 154,
     "metadata": {},
     "output_type": "execute_result"
    }
   ],
   "source": [
    "pd.Series(y_test).value_counts()"
   ]
  },
  {
   "cell_type": "code",
   "execution_count": 152,
   "id": "f19fedbf",
   "metadata": {},
   "outputs": [
    {
     "data": {
      "text/plain": [
       "array([[23067,     8],\n",
       "       [   92,    35]], dtype=int64)"
      ]
     },
     "execution_count": 152,
     "metadata": {},
     "output_type": "execute_result"
    }
   ],
   "source": [
    "confusion_matrix(y_test, y_pred)"
   ]
  },
  {
   "cell_type": "code",
   "execution_count": 155,
   "id": "388d569c",
   "metadata": {},
   "outputs": [],
   "source": [
    "#### it needs to be improved"
   ]
  },
  {
   "cell_type": "code",
   "execution_count": 157,
   "id": "6b2ab289",
   "metadata": {},
   "outputs": [
    {
     "data": {
      "text/plain": [
       "0.2755905511811024"
      ]
     },
     "execution_count": 157,
     "metadata": {},
     "output_type": "execute_result"
    }
   ],
   "source": [
    "recall_score(y_test, y_pred)"
   ]
  },
  {
   "cell_type": "code",
   "execution_count": 158,
   "id": "8012a680",
   "metadata": {},
   "outputs": [],
   "source": [
    "from sklearn.neighbors import KNeighborsClassifier"
   ]
  },
  {
   "cell_type": "code",
   "execution_count": 159,
   "id": "d7d08459",
   "metadata": {},
   "outputs": [],
   "source": [
    "knn = KNeighborsClassifier(n_neighbors=13)"
   ]
  },
  {
   "cell_type": "code",
   "execution_count": 160,
   "id": "f35e153a",
   "metadata": {},
   "outputs": [
    {
     "data": {
      "text/plain": [
       "KNeighborsClassifier(n_neighbors=13)"
      ]
     },
     "execution_count": 160,
     "metadata": {},
     "output_type": "execute_result"
    }
   ],
   "source": [
    "knn.fit(x_train, y_train)"
   ]
  },
  {
   "cell_type": "code",
   "execution_count": 161,
   "id": "202d16ec",
   "metadata": {},
   "outputs": [],
   "source": [
    "y_pred = knn.predict(x_test)"
   ]
  },
  {
   "cell_type": "code",
   "execution_count": 162,
   "id": "a2bbb230",
   "metadata": {},
   "outputs": [
    {
     "data": {
      "text/plain": [
       "0.18309859154929575"
      ]
     },
     "execution_count": 162,
     "metadata": {},
     "output_type": "execute_result"
    }
   ],
   "source": [
    "f1_score(y_test, y_pred)"
   ]
  },
  {
   "cell_type": "code",
   "execution_count": 163,
   "id": "3baa76b7",
   "metadata": {},
   "outputs": [
    {
     "data": {
      "text/plain": [
       "array([[23073,     2],\n",
       "       [  114,    13]], dtype=int64)"
      ]
     },
     "execution_count": 163,
     "metadata": {},
     "output_type": "execute_result"
    }
   ],
   "source": [
    "confusion_matrix(y_test, y_pred)"
   ]
  },
  {
   "cell_type": "code",
   "execution_count": 164,
   "id": "e03d80fb",
   "metadata": {},
   "outputs": [
    {
     "data": {
      "text/plain": [
       "0.10236220472440945"
      ]
     },
     "execution_count": 164,
     "metadata": {},
     "output_type": "execute_result"
    }
   ],
   "source": [
    "recall_score(y_test, y_pred)"
   ]
  },
  {
   "cell_type": "code",
   "execution_count": null,
   "id": "b4a09d18",
   "metadata": {},
   "outputs": [],
   "source": []
  },
  {
   "cell_type": "code",
   "execution_count": 165,
   "id": "7d4da045",
   "metadata": {},
   "outputs": [],
   "source": [
    "from sklearn.tree import DecisionTreeClassifier"
   ]
  },
  {
   "cell_type": "code",
   "execution_count": 174,
   "id": "a8d7fb58",
   "metadata": {},
   "outputs": [],
   "source": [
    "dt = DecisionTreeClassifier(max_depth= 8)"
   ]
  },
  {
   "cell_type": "code",
   "execution_count": 175,
   "id": "f9743145",
   "metadata": {},
   "outputs": [
    {
     "data": {
      "text/plain": [
       "DecisionTreeClassifier(max_depth=8)"
      ]
     },
     "execution_count": 175,
     "metadata": {},
     "output_type": "execute_result"
    }
   ],
   "source": [
    "dt.fit(x_train, y_train)"
   ]
  },
  {
   "cell_type": "code",
   "execution_count": 176,
   "id": "ec322ccb",
   "metadata": {},
   "outputs": [],
   "source": [
    "y_pred = dt.predict(x_test)"
   ]
  },
  {
   "cell_type": "code",
   "execution_count": 177,
   "id": "fdc9d2e6",
   "metadata": {},
   "outputs": [
    {
     "data": {
      "text/plain": [
       "0.11659192825112107"
      ]
     },
     "execution_count": 177,
     "metadata": {},
     "output_type": "execute_result"
    }
   ],
   "source": [
    "f1_score(y_test, y_pred)"
   ]
  },
  {
   "cell_type": "code",
   "execution_count": 178,
   "id": "3e77be0b",
   "metadata": {},
   "outputs": [],
   "source": [
    " #### logistic regression is performing good"
   ]
  },
  {
   "cell_type": "code",
   "execution_count": 179,
   "id": "bc77df6e",
   "metadata": {},
   "outputs": [],
   "source": [
    "### u need try ensemble learning techniques"
   ]
  },
  {
   "cell_type": "code",
   "execution_count": 180,
   "id": "acca20e0",
   "metadata": {},
   "outputs": [],
   "source": [
    "#### voting classifier, bagging classifier, random forest classifier"
   ]
  },
  {
   "cell_type": "code",
   "execution_count": null,
   "id": "82ec2fc7",
   "metadata": {},
   "outputs": [],
   "source": []
  }
 ],
 "metadata": {
  "kernelspec": {
   "display_name": "Python 3 (ipykernel)",
   "language": "python",
   "name": "python3"
  },
  "language_info": {
   "codemirror_mode": {
    "name": "ipython",
    "version": 3
   },
   "file_extension": ".py",
   "mimetype": "text/x-python",
   "name": "python",
   "nbconvert_exporter": "python",
   "pygments_lexer": "ipython3",
   "version": "3.10.9"
  }
 },
 "nbformat": 4,
 "nbformat_minor": 5
}
