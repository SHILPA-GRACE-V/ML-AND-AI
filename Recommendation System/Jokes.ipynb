{
 "cells": [
  {
   "cell_type": "code",
   "execution_count": 1,
   "id": "bc7edea9",
   "metadata": {},
   "outputs": [],
   "source": [
    "import numpy as np\n",
    "import pandas as pd"
   ]
  },
  {
   "cell_type": "code",
   "execution_count": 2,
   "id": "2a542989",
   "metadata": {},
   "outputs": [],
   "source": [
    "data = pd.read_csv(\"jokes-data.csv\")"
   ]
  },
  {
   "cell_type": "code",
   "execution_count": 3,
   "id": "9abb0b6c",
   "metadata": {},
   "outputs": [
    {
     "data": {
      "text/html": [
       "<div>\n",
       "<style scoped>\n",
       "    .dataframe tbody tr th:only-of-type {\n",
       "        vertical-align: middle;\n",
       "    }\n",
       "\n",
       "    .dataframe tbody tr th {\n",
       "        vertical-align: top;\n",
       "    }\n",
       "\n",
       "    .dataframe thead th {\n",
       "        text-align: right;\n",
       "    }\n",
       "</style>\n",
       "<table border=\"1\" class=\"dataframe\">\n",
       "  <thead>\n",
       "    <tr style=\"text-align: right;\">\n",
       "      <th></th>\n",
       "      <th>id</th>\n",
       "      <th>user_id</th>\n",
       "      <th>joke_id</th>\n",
       "      <th>Rating</th>\n",
       "    </tr>\n",
       "  </thead>\n",
       "  <tbody>\n",
       "    <tr>\n",
       "      <th>0</th>\n",
       "      <td>31030_110</td>\n",
       "      <td>31030</td>\n",
       "      <td>110</td>\n",
       "      <td>2.750</td>\n",
       "    </tr>\n",
       "    <tr>\n",
       "      <th>1</th>\n",
       "      <td>16144_109</td>\n",
       "      <td>16144</td>\n",
       "      <td>109</td>\n",
       "      <td>5.094</td>\n",
       "    </tr>\n",
       "    <tr>\n",
       "      <th>2</th>\n",
       "      <td>23098_6</td>\n",
       "      <td>23098</td>\n",
       "      <td>6</td>\n",
       "      <td>-6.438</td>\n",
       "    </tr>\n",
       "    <tr>\n",
       "      <th>3</th>\n",
       "      <td>14273_86</td>\n",
       "      <td>14273</td>\n",
       "      <td>86</td>\n",
       "      <td>4.406</td>\n",
       "    </tr>\n",
       "    <tr>\n",
       "      <th>4</th>\n",
       "      <td>18419_134</td>\n",
       "      <td>18419</td>\n",
       "      <td>134</td>\n",
       "      <td>9.375</td>\n",
       "    </tr>\n",
       "    <tr>\n",
       "      <th>...</th>\n",
       "      <td>...</td>\n",
       "      <td>...</td>\n",
       "      <td>...</td>\n",
       "      <td>...</td>\n",
       "    </tr>\n",
       "    <tr>\n",
       "      <th>1092054</th>\n",
       "      <td>9517_132</td>\n",
       "      <td>9517</td>\n",
       "      <td>132</td>\n",
       "      <td>3.156</td>\n",
       "    </tr>\n",
       "    <tr>\n",
       "      <th>1092055</th>\n",
       "      <td>27767_118</td>\n",
       "      <td>27767</td>\n",
       "      <td>118</td>\n",
       "      <td>-1.594</td>\n",
       "    </tr>\n",
       "    <tr>\n",
       "      <th>1092056</th>\n",
       "      <td>10580_81</td>\n",
       "      <td>10580</td>\n",
       "      <td>81</td>\n",
       "      <td>2.000</td>\n",
       "    </tr>\n",
       "    <tr>\n",
       "      <th>1092057</th>\n",
       "      <td>31007_119</td>\n",
       "      <td>31007</td>\n",
       "      <td>119</td>\n",
       "      <td>8.906</td>\n",
       "    </tr>\n",
       "    <tr>\n",
       "      <th>1092058</th>\n",
       "      <td>8420_98</td>\n",
       "      <td>8420</td>\n",
       "      <td>98</td>\n",
       "      <td>-3.344</td>\n",
       "    </tr>\n",
       "  </tbody>\n",
       "</table>\n",
       "<p>1092059 rows × 4 columns</p>\n",
       "</div>"
      ],
      "text/plain": [
       "                id  user_id  joke_id  Rating\n",
       "0        31030_110    31030      110   2.750\n",
       "1        16144_109    16144      109   5.094\n",
       "2          23098_6    23098        6  -6.438\n",
       "3         14273_86    14273       86   4.406\n",
       "4        18419_134    18419      134   9.375\n",
       "...            ...      ...      ...     ...\n",
       "1092054   9517_132     9517      132   3.156\n",
       "1092055  27767_118    27767      118  -1.594\n",
       "1092056   10580_81    10580       81   2.000\n",
       "1092057  31007_119    31007      119   8.906\n",
       "1092058    8420_98     8420       98  -3.344\n",
       "\n",
       "[1092059 rows x 4 columns]"
      ]
     },
     "execution_count": 3,
     "metadata": {},
     "output_type": "execute_result"
    }
   ],
   "source": [
    "data"
   ]
  },
  {
   "cell_type": "code",
   "execution_count": 4,
   "id": "9904efdf",
   "metadata": {},
   "outputs": [
    {
     "data": {
      "text/plain": [
       "(1092059, 4)"
      ]
     },
     "execution_count": 4,
     "metadata": {},
     "output_type": "execute_result"
    }
   ],
   "source": [
    "data.shape"
   ]
  },
  {
   "cell_type": "markdown",
   "id": "a5115432",
   "metadata": {},
   "source": [
    "# using the surprise package"
   ]
  },
  {
   "cell_type": "code",
   "execution_count": 5,
   "id": "733c2ce8",
   "metadata": {},
   "outputs": [],
   "source": [
    "import surprise\n",
    "from surprise import Reader, Dataset, KNNBasic, SVD,accuracy"
   ]
  },
  {
   "cell_type": "code",
   "execution_count": 6,
   "id": "7676cad9",
   "metadata": {},
   "outputs": [],
   "source": [
    "reader = Reader()"
   ]
  },
  {
   "cell_type": "code",
   "execution_count": 7,
   "id": "b16179cd",
   "metadata": {},
   "outputs": [],
   "source": [
    "df=data[['user_id', 'joke_id', 'Rating']]"
   ]
  },
  {
   "cell_type": "code",
   "execution_count": 8,
   "id": "630fa487",
   "metadata": {},
   "outputs": [],
   "source": [
    "data1 = Dataset.load_from_df(df, reader)"
   ]
  },
  {
   "cell_type": "code",
   "execution_count": 9,
   "id": "93367fa2",
   "metadata": {},
   "outputs": [],
   "source": [
    "trainset, validset = surprise.model_selection.train_test_split(\n",
    "    data1, test_size=0.2, random_state=42\n",
    ")"
   ]
  },
  {
   "cell_type": "code",
   "execution_count": 10,
   "id": "fa4fa4ff",
   "metadata": {},
   "outputs": [
    {
     "name": "stdout",
     "output_type": "stream",
     "text": [
      "RMSE: 4.7001\n"
     ]
    },
    {
     "data": {
      "text/plain": [
       "4.7001277717013705"
      ]
     },
     "execution_count": 10,
     "metadata": {},
     "output_type": "execute_result"
    }
   ],
   "source": [
    "k = 10\n",
    "algo = SVD(n_factors=k, random_state=42)\n",
    "algo.fit(trainset)\n",
    "svd_preds = algo.test(validset)\n",
    "accuracy.rmse(svd_preds, verbose=True)"
   ]
  },
  {
   "cell_type": "markdown",
   "id": "08c2ed27",
   "metadata": {},
   "source": [
    "# Cross-validation"
   ]
  },
  {
   "cell_type": "code",
   "execution_count": 11,
   "id": "e151f46b",
   "metadata": {},
   "outputs": [
    {
     "name": "stdout",
     "output_type": "stream",
     "text": [
      "Evaluating RMSE, MAE of algorithm SVD on 5 split(s).\n",
      "\n",
      "                  Fold 1  Fold 2  Fold 3  Fold 4  Fold 5  Mean    Std     \n",
      "RMSE (testset)    4.7036  4.7054  4.7084  4.6993  4.7041  4.7041  0.0029  \n",
      "MAE (testset)     3.6536  3.6617  3.6578  3.6520  3.6557  3.6562  0.0034  \n",
      "Fit time          15.51   16.82   15.66   15.49   15.19   15.73   0.56    \n",
      "Test time         5.25    5.07    4.95    6.58    5.08    5.39    0.60    \n"
     ]
    }
   ],
   "source": [
    "from surprise.model_selection import cross_validate\n",
    "\n",
    "results = cross_validate(algo, data1, measures=[\"RMSE\", \"MAE\"], cv=5, verbose=True)"
   ]
  },
  {
   "cell_type": "code",
   "execution_count": 12,
   "id": "52ec1272",
   "metadata": {},
   "outputs": [
    {
     "data": {
      "text/plain": [
       "test_rmse     4.704147\n",
       "test_mae      3.656157\n",
       "fit_time     15.733719\n",
       "test_time     5.388026\n",
       "dtype: float64"
      ]
     },
     "execution_count": 12,
     "metadata": {},
     "output_type": "execute_result"
    }
   ],
   "source": [
    "pd.DataFrame(results).mean()"
   ]
  },
  {
   "cell_type": "code",
   "execution_count": null,
   "id": "8735efdc",
   "metadata": {},
   "outputs": [],
   "source": []
  },
  {
   "cell_type": "code",
   "execution_count": null,
   "id": "64775ba0",
   "metadata": {},
   "outputs": [],
   "source": []
  }
 ],
 "metadata": {
  "kernelspec": {
   "display_name": "Python 3 (ipykernel)",
   "language": "python",
   "name": "python3"
  },
  "language_info": {
   "codemirror_mode": {
    "name": "ipython",
    "version": 3
   },
   "file_extension": ".py",
   "mimetype": "text/x-python",
   "name": "python",
   "nbconvert_exporter": "python",
   "pygments_lexer": "ipython3",
   "version": "3.10.9"
  }
 },
 "nbformat": 4,
 "nbformat_minor": 5
}
